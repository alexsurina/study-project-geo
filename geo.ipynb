{
  "cells": [
    {
      "cell_type": "markdown",
      "metadata": {
        "id": "IcND_XHVEoFE"
      },
      "source": [
        "# Выбор локации для скважины"
      ]
    },
    {
      "cell_type": "markdown",
      "metadata": {
        "id": "QU_IemkxEoFE"
      },
      "source": [
        "По пробам нефти в трёх регионах (в каждом 10 000 месторождений, где измерили качество нефти и объём её запасов) необходимо построить модель машинного обучения, которая поможет определить регион, где добыча принесёт наибольшую прибыль, то есть, где бурить новую скважину. Анализ возможной прибыли и риски выполним техникой *Bootstrap.*\n",
        "\n"
      ]
    },
    {
      "cell_type": "markdown",
      "metadata": {
        "id": "NdznewT4EoFF"
      },
      "source": [
        "## Загрузка и подготовка данных"
      ]
    },
    {
      "cell_type": "code",
      "execution_count": null,
      "metadata": {
        "id": "qqzg_bZ_EoFG"
      },
      "outputs": [],
      "source": [
        "import pandas as pd\n",
        "import numpy as np\n",
        "\n",
        "from sklearn.model_selection import train_test_split\n",
        "from sklearn.linear_model import LinearRegression\n",
        "from sklearn.metrics import mean_squared_error"
      ]
    },
    {
      "cell_type": "markdown",
      "metadata": {
        "id": "JQhdU0irEoFI"
      },
      "source": [
        "Данные геологоразведки трёх регионов находятся в файлах:"
      ]
    },
    {
      "cell_type": "code",
      "execution_count": null,
      "metadata": {
        "id": "HMnf9sbbEoFJ"
      },
      "outputs": [],
      "source": [
        "geo_data_0 = pd.read_csv('/datasets/geo_data_0.csv')"
      ]
    },
    {
      "cell_type": "code",
      "execution_count": null,
      "metadata": {
        "id": "7oKfN_FIEoFJ"
      },
      "outputs": [],
      "source": [
        "geo_data_1 = pd.read_csv('/datasets/geo_data_1.csv')"
      ]
    },
    {
      "cell_type": "code",
      "execution_count": null,
      "metadata": {
        "id": "lgji_k6VEoFK"
      },
      "outputs": [],
      "source": [
        "geo_data_2 = pd.read_csv('/datasets/geo_data_2.csv')"
      ]
    },
    {
      "cell_type": "markdown",
      "metadata": {
        "id": "3KKk5jBgEoFK"
      },
      "source": [
        "**Описание данных**\n",
        "\n",
        "* id — уникальный идентификатор скважины;\n",
        "* f0, f1, f2 — три признака точек (неважно, что они означают, но сами признаки значимы);\n",
        "* product — объём запасов в скважине (тыс. баррелей)."
      ]
    },
    {
      "cell_type": "code",
      "execution_count": null,
      "metadata": {
        "id": "kOnx1FviEoFK",
        "outputId": "48412512-70cf-40f4-8790-ad8b2e844026"
      },
      "outputs": [
        {
          "data": {
            "text/html": [
              "<div>\n",
              "<style scoped>\n",
              "    .dataframe tbody tr th:only-of-type {\n",
              "        vertical-align: middle;\n",
              "    }\n",
              "\n",
              "    .dataframe tbody tr th {\n",
              "        vertical-align: top;\n",
              "    }\n",
              "\n",
              "    .dataframe thead th {\n",
              "        text-align: right;\n",
              "    }\n",
              "</style>\n",
              "<table border=\"1\" class=\"dataframe\">\n",
              "  <thead>\n",
              "    <tr style=\"text-align: right;\">\n",
              "      <th></th>\n",
              "      <th>id</th>\n",
              "      <th>f0</th>\n",
              "      <th>f1</th>\n",
              "      <th>f2</th>\n",
              "      <th>product</th>\n",
              "    </tr>\n",
              "  </thead>\n",
              "  <tbody>\n",
              "    <tr>\n",
              "      <td>0</td>\n",
              "      <td>txEyH</td>\n",
              "      <td>0.705745</td>\n",
              "      <td>-0.497823</td>\n",
              "      <td>1.221170</td>\n",
              "      <td>105.280062</td>\n",
              "    </tr>\n",
              "    <tr>\n",
              "      <td>1</td>\n",
              "      <td>2acmU</td>\n",
              "      <td>1.334711</td>\n",
              "      <td>-0.340164</td>\n",
              "      <td>4.365080</td>\n",
              "      <td>73.037750</td>\n",
              "    </tr>\n",
              "    <tr>\n",
              "      <td>2</td>\n",
              "      <td>409Wp</td>\n",
              "      <td>1.022732</td>\n",
              "      <td>0.151990</td>\n",
              "      <td>1.419926</td>\n",
              "      <td>85.265647</td>\n",
              "    </tr>\n",
              "    <tr>\n",
              "      <td>3</td>\n",
              "      <td>iJLyR</td>\n",
              "      <td>-0.032172</td>\n",
              "      <td>0.139033</td>\n",
              "      <td>2.978566</td>\n",
              "      <td>168.620776</td>\n",
              "    </tr>\n",
              "    <tr>\n",
              "      <td>4</td>\n",
              "      <td>Xdl7t</td>\n",
              "      <td>1.988431</td>\n",
              "      <td>0.155413</td>\n",
              "      <td>4.751769</td>\n",
              "      <td>154.036647</td>\n",
              "    </tr>\n",
              "    <tr>\n",
              "      <td>...</td>\n",
              "      <td>...</td>\n",
              "      <td>...</td>\n",
              "      <td>...</td>\n",
              "      <td>...</td>\n",
              "      <td>...</td>\n",
              "    </tr>\n",
              "    <tr>\n",
              "      <td>99995</td>\n",
              "      <td>DLsed</td>\n",
              "      <td>0.971957</td>\n",
              "      <td>0.370953</td>\n",
              "      <td>6.075346</td>\n",
              "      <td>110.744026</td>\n",
              "    </tr>\n",
              "    <tr>\n",
              "      <td>99996</td>\n",
              "      <td>QKivN</td>\n",
              "      <td>1.392429</td>\n",
              "      <td>-0.382606</td>\n",
              "      <td>1.273912</td>\n",
              "      <td>122.346843</td>\n",
              "    </tr>\n",
              "    <tr>\n",
              "      <td>99997</td>\n",
              "      <td>3rnvd</td>\n",
              "      <td>1.029585</td>\n",
              "      <td>0.018787</td>\n",
              "      <td>-1.348308</td>\n",
              "      <td>64.375443</td>\n",
              "    </tr>\n",
              "    <tr>\n",
              "      <td>99998</td>\n",
              "      <td>7kl59</td>\n",
              "      <td>0.998163</td>\n",
              "      <td>-0.528582</td>\n",
              "      <td>1.583869</td>\n",
              "      <td>74.040764</td>\n",
              "    </tr>\n",
              "    <tr>\n",
              "      <td>99999</td>\n",
              "      <td>1CWhH</td>\n",
              "      <td>1.764754</td>\n",
              "      <td>-0.266417</td>\n",
              "      <td>5.722849</td>\n",
              "      <td>149.633246</td>\n",
              "    </tr>\n",
              "  </tbody>\n",
              "</table>\n",
              "<p>100000 rows × 5 columns</p>\n",
              "</div>"
            ],
            "text/plain": [
              "          id        f0        f1        f2     product\n",
              "0      txEyH  0.705745 -0.497823  1.221170  105.280062\n",
              "1      2acmU  1.334711 -0.340164  4.365080   73.037750\n",
              "2      409Wp  1.022732  0.151990  1.419926   85.265647\n",
              "3      iJLyR -0.032172  0.139033  2.978566  168.620776\n",
              "4      Xdl7t  1.988431  0.155413  4.751769  154.036647\n",
              "...      ...       ...       ...       ...         ...\n",
              "99995  DLsed  0.971957  0.370953  6.075346  110.744026\n",
              "99996  QKivN  1.392429 -0.382606  1.273912  122.346843\n",
              "99997  3rnvd  1.029585  0.018787 -1.348308   64.375443\n",
              "99998  7kl59  0.998163 -0.528582  1.583869   74.040764\n",
              "99999  1CWhH  1.764754 -0.266417  5.722849  149.633246\n",
              "\n",
              "[100000 rows x 5 columns]"
            ]
          },
          "execution_count": 5,
          "metadata": {},
          "output_type": "execute_result"
        }
      ],
      "source": [
        "geo_data_0"
      ]
    },
    {
      "cell_type": "code",
      "execution_count": null,
      "metadata": {
        "id": "kl7L8lg9EoFL",
        "outputId": "1103a47a-0789-4fa0-e5bb-fe28ddcb0ccb"
      },
      "outputs": [
        {
          "data": {
            "text/html": [
              "<div>\n",
              "<style scoped>\n",
              "    .dataframe tbody tr th:only-of-type {\n",
              "        vertical-align: middle;\n",
              "    }\n",
              "\n",
              "    .dataframe tbody tr th {\n",
              "        vertical-align: top;\n",
              "    }\n",
              "\n",
              "    .dataframe thead th {\n",
              "        text-align: right;\n",
              "    }\n",
              "</style>\n",
              "<table border=\"1\" class=\"dataframe\">\n",
              "  <thead>\n",
              "    <tr style=\"text-align: right;\">\n",
              "      <th></th>\n",
              "      <th>id</th>\n",
              "      <th>f0</th>\n",
              "      <th>f1</th>\n",
              "      <th>f2</th>\n",
              "      <th>product</th>\n",
              "    </tr>\n",
              "  </thead>\n",
              "  <tbody>\n",
              "    <tr>\n",
              "      <td>0</td>\n",
              "      <td>kBEdx</td>\n",
              "      <td>-15.001348</td>\n",
              "      <td>-8.276000</td>\n",
              "      <td>-0.005876</td>\n",
              "      <td>3.179103</td>\n",
              "    </tr>\n",
              "    <tr>\n",
              "      <td>1</td>\n",
              "      <td>62mP7</td>\n",
              "      <td>14.272088</td>\n",
              "      <td>-3.475083</td>\n",
              "      <td>0.999183</td>\n",
              "      <td>26.953261</td>\n",
              "    </tr>\n",
              "    <tr>\n",
              "      <td>2</td>\n",
              "      <td>vyE1P</td>\n",
              "      <td>6.263187</td>\n",
              "      <td>-5.948386</td>\n",
              "      <td>5.001160</td>\n",
              "      <td>134.766305</td>\n",
              "    </tr>\n",
              "    <tr>\n",
              "      <td>3</td>\n",
              "      <td>KcrkZ</td>\n",
              "      <td>-13.081196</td>\n",
              "      <td>-11.506057</td>\n",
              "      <td>4.999415</td>\n",
              "      <td>137.945408</td>\n",
              "    </tr>\n",
              "    <tr>\n",
              "      <td>4</td>\n",
              "      <td>AHL4O</td>\n",
              "      <td>12.702195</td>\n",
              "      <td>-8.147433</td>\n",
              "      <td>5.004363</td>\n",
              "      <td>134.766305</td>\n",
              "    </tr>\n",
              "    <tr>\n",
              "      <td>...</td>\n",
              "      <td>...</td>\n",
              "      <td>...</td>\n",
              "      <td>...</td>\n",
              "      <td>...</td>\n",
              "      <td>...</td>\n",
              "    </tr>\n",
              "    <tr>\n",
              "      <td>99995</td>\n",
              "      <td>QywKC</td>\n",
              "      <td>9.535637</td>\n",
              "      <td>-6.878139</td>\n",
              "      <td>1.998296</td>\n",
              "      <td>53.906522</td>\n",
              "    </tr>\n",
              "    <tr>\n",
              "      <td>99996</td>\n",
              "      <td>ptvty</td>\n",
              "      <td>-10.160631</td>\n",
              "      <td>-12.558096</td>\n",
              "      <td>5.005581</td>\n",
              "      <td>137.945408</td>\n",
              "    </tr>\n",
              "    <tr>\n",
              "      <td>99997</td>\n",
              "      <td>09gWa</td>\n",
              "      <td>-7.378891</td>\n",
              "      <td>-3.084104</td>\n",
              "      <td>4.998651</td>\n",
              "      <td>137.945408</td>\n",
              "    </tr>\n",
              "    <tr>\n",
              "      <td>99998</td>\n",
              "      <td>rqwUm</td>\n",
              "      <td>0.665714</td>\n",
              "      <td>-6.152593</td>\n",
              "      <td>1.000146</td>\n",
              "      <td>30.132364</td>\n",
              "    </tr>\n",
              "    <tr>\n",
              "      <td>99999</td>\n",
              "      <td>relB0</td>\n",
              "      <td>-3.426139</td>\n",
              "      <td>-7.794274</td>\n",
              "      <td>-0.003299</td>\n",
              "      <td>3.179103</td>\n",
              "    </tr>\n",
              "  </tbody>\n",
              "</table>\n",
              "<p>100000 rows × 5 columns</p>\n",
              "</div>"
            ],
            "text/plain": [
              "          id         f0         f1        f2     product\n",
              "0      kBEdx -15.001348  -8.276000 -0.005876    3.179103\n",
              "1      62mP7  14.272088  -3.475083  0.999183   26.953261\n",
              "2      vyE1P   6.263187  -5.948386  5.001160  134.766305\n",
              "3      KcrkZ -13.081196 -11.506057  4.999415  137.945408\n",
              "4      AHL4O  12.702195  -8.147433  5.004363  134.766305\n",
              "...      ...        ...        ...       ...         ...\n",
              "99995  QywKC   9.535637  -6.878139  1.998296   53.906522\n",
              "99996  ptvty -10.160631 -12.558096  5.005581  137.945408\n",
              "99997  09gWa  -7.378891  -3.084104  4.998651  137.945408\n",
              "99998  rqwUm   0.665714  -6.152593  1.000146   30.132364\n",
              "99999  relB0  -3.426139  -7.794274 -0.003299    3.179103\n",
              "\n",
              "[100000 rows x 5 columns]"
            ]
          },
          "execution_count": 6,
          "metadata": {},
          "output_type": "execute_result"
        }
      ],
      "source": [
        "geo_data_1"
      ]
    },
    {
      "cell_type": "code",
      "execution_count": null,
      "metadata": {
        "id": "Lm8MWJ0CEoFL",
        "outputId": "77c2974f-46f6-41bb-999d-f5841d8cb1db"
      },
      "outputs": [
        {
          "data": {
            "text/html": [
              "<div>\n",
              "<style scoped>\n",
              "    .dataframe tbody tr th:only-of-type {\n",
              "        vertical-align: middle;\n",
              "    }\n",
              "\n",
              "    .dataframe tbody tr th {\n",
              "        vertical-align: top;\n",
              "    }\n",
              "\n",
              "    .dataframe thead th {\n",
              "        text-align: right;\n",
              "    }\n",
              "</style>\n",
              "<table border=\"1\" class=\"dataframe\">\n",
              "  <thead>\n",
              "    <tr style=\"text-align: right;\">\n",
              "      <th></th>\n",
              "      <th>id</th>\n",
              "      <th>f0</th>\n",
              "      <th>f1</th>\n",
              "      <th>f2</th>\n",
              "      <th>product</th>\n",
              "    </tr>\n",
              "  </thead>\n",
              "  <tbody>\n",
              "    <tr>\n",
              "      <td>0</td>\n",
              "      <td>fwXo0</td>\n",
              "      <td>-1.146987</td>\n",
              "      <td>0.963328</td>\n",
              "      <td>-0.828965</td>\n",
              "      <td>27.758673</td>\n",
              "    </tr>\n",
              "    <tr>\n",
              "      <td>1</td>\n",
              "      <td>WJtFt</td>\n",
              "      <td>0.262778</td>\n",
              "      <td>0.269839</td>\n",
              "      <td>-2.530187</td>\n",
              "      <td>56.069697</td>\n",
              "    </tr>\n",
              "    <tr>\n",
              "      <td>2</td>\n",
              "      <td>ovLUW</td>\n",
              "      <td>0.194587</td>\n",
              "      <td>0.289035</td>\n",
              "      <td>-5.586433</td>\n",
              "      <td>62.871910</td>\n",
              "    </tr>\n",
              "    <tr>\n",
              "      <td>3</td>\n",
              "      <td>q6cA6</td>\n",
              "      <td>2.236060</td>\n",
              "      <td>-0.553760</td>\n",
              "      <td>0.930038</td>\n",
              "      <td>114.572842</td>\n",
              "    </tr>\n",
              "    <tr>\n",
              "      <td>4</td>\n",
              "      <td>WPMUX</td>\n",
              "      <td>-0.515993</td>\n",
              "      <td>1.716266</td>\n",
              "      <td>5.899011</td>\n",
              "      <td>149.600746</td>\n",
              "    </tr>\n",
              "    <tr>\n",
              "      <td>...</td>\n",
              "      <td>...</td>\n",
              "      <td>...</td>\n",
              "      <td>...</td>\n",
              "      <td>...</td>\n",
              "      <td>...</td>\n",
              "    </tr>\n",
              "    <tr>\n",
              "      <td>99995</td>\n",
              "      <td>4GxBu</td>\n",
              "      <td>-1.777037</td>\n",
              "      <td>1.125220</td>\n",
              "      <td>6.263374</td>\n",
              "      <td>172.327046</td>\n",
              "    </tr>\n",
              "    <tr>\n",
              "      <td>99996</td>\n",
              "      <td>YKFjq</td>\n",
              "      <td>-1.261523</td>\n",
              "      <td>-0.894828</td>\n",
              "      <td>2.524545</td>\n",
              "      <td>138.748846</td>\n",
              "    </tr>\n",
              "    <tr>\n",
              "      <td>99997</td>\n",
              "      <td>tKPY3</td>\n",
              "      <td>-1.199934</td>\n",
              "      <td>-2.957637</td>\n",
              "      <td>5.219411</td>\n",
              "      <td>157.080080</td>\n",
              "    </tr>\n",
              "    <tr>\n",
              "      <td>99998</td>\n",
              "      <td>nmxp2</td>\n",
              "      <td>-2.419896</td>\n",
              "      <td>2.417221</td>\n",
              "      <td>-5.548444</td>\n",
              "      <td>51.795253</td>\n",
              "    </tr>\n",
              "    <tr>\n",
              "      <td>99999</td>\n",
              "      <td>V9kWn</td>\n",
              "      <td>-2.551421</td>\n",
              "      <td>-2.025625</td>\n",
              "      <td>6.090891</td>\n",
              "      <td>102.775767</td>\n",
              "    </tr>\n",
              "  </tbody>\n",
              "</table>\n",
              "<p>100000 rows × 5 columns</p>\n",
              "</div>"
            ],
            "text/plain": [
              "          id        f0        f1        f2     product\n",
              "0      fwXo0 -1.146987  0.963328 -0.828965   27.758673\n",
              "1      WJtFt  0.262778  0.269839 -2.530187   56.069697\n",
              "2      ovLUW  0.194587  0.289035 -5.586433   62.871910\n",
              "3      q6cA6  2.236060 -0.553760  0.930038  114.572842\n",
              "4      WPMUX -0.515993  1.716266  5.899011  149.600746\n",
              "...      ...       ...       ...       ...         ...\n",
              "99995  4GxBu -1.777037  1.125220  6.263374  172.327046\n",
              "99996  YKFjq -1.261523 -0.894828  2.524545  138.748846\n",
              "99997  tKPY3 -1.199934 -2.957637  5.219411  157.080080\n",
              "99998  nmxp2 -2.419896  2.417221 -5.548444   51.795253\n",
              "99999  V9kWn -2.551421 -2.025625  6.090891  102.775767\n",
              "\n",
              "[100000 rows x 5 columns]"
            ]
          },
          "execution_count": 7,
          "metadata": {},
          "output_type": "execute_result"
        }
      ],
      "source": [
        "geo_data_2"
      ]
    },
    {
      "cell_type": "code",
      "execution_count": null,
      "metadata": {
        "id": "YcazMHXpEoFM",
        "outputId": "0ab20a90-aa75-45fb-8b5c-64d5be05edb3"
      },
      "outputs": [
        {
          "name": "stdout",
          "output_type": "stream",
          "text": [
            "<class 'pandas.core.frame.DataFrame'>\n",
            "RangeIndex: 100000 entries, 0 to 99999\n",
            "Data columns (total 5 columns):\n",
            "id         100000 non-null object\n",
            "f0         100000 non-null float64\n",
            "f1         100000 non-null float64\n",
            "f2         100000 non-null float64\n",
            "product    100000 non-null float64\n",
            "dtypes: float64(4), object(1)\n",
            "memory usage: 3.8+ MB\n"
          ]
        }
      ],
      "source": [
        "geo_data_0.info()"
      ]
    },
    {
      "cell_type": "code",
      "execution_count": null,
      "metadata": {
        "id": "6Dkpng9VEoFM",
        "outputId": "58f5b078-c0f1-4d8b-c78c-56bfe1bf01ef"
      },
      "outputs": [
        {
          "name": "stdout",
          "output_type": "stream",
          "text": [
            "<class 'pandas.core.frame.DataFrame'>\n",
            "RangeIndex: 100000 entries, 0 to 99999\n",
            "Data columns (total 5 columns):\n",
            "id         100000 non-null object\n",
            "f0         100000 non-null float64\n",
            "f1         100000 non-null float64\n",
            "f2         100000 non-null float64\n",
            "product    100000 non-null float64\n",
            "dtypes: float64(4), object(1)\n",
            "memory usage: 3.8+ MB\n"
          ]
        }
      ],
      "source": [
        "geo_data_1.info()"
      ]
    },
    {
      "cell_type": "code",
      "execution_count": null,
      "metadata": {
        "id": "F3ERzalUEoFM",
        "outputId": "b2a0bbd9-b861-4854-93fa-1a84c8aa1ac4"
      },
      "outputs": [
        {
          "name": "stdout",
          "output_type": "stream",
          "text": [
            "<class 'pandas.core.frame.DataFrame'>\n",
            "RangeIndex: 100000 entries, 0 to 99999\n",
            "Data columns (total 5 columns):\n",
            "id         100000 non-null object\n",
            "f0         100000 non-null float64\n",
            "f1         100000 non-null float64\n",
            "f2         100000 non-null float64\n",
            "product    100000 non-null float64\n",
            "dtypes: float64(4), object(1)\n",
            "memory usage: 3.8+ MB\n"
          ]
        }
      ],
      "source": [
        "geo_data_2.info()"
      ]
    },
    {
      "cell_type": "markdown",
      "metadata": {
        "id": "V00EYhmTEoFN"
      },
      "source": [
        "Пропусков нет. "
      ]
    },
    {
      "cell_type": "code",
      "execution_count": null,
      "metadata": {
        "id": "TZ3JoMrBEoFN",
        "outputId": "62b8dc1f-ba6c-4f11-9292-9c53b855bae6"
      },
      "outputs": [
        {
          "data": {
            "text/plain": [
              "0"
            ]
          },
          "execution_count": 11,
          "metadata": {},
          "output_type": "execute_result"
        }
      ],
      "source": [
        "geo_data_0.duplicated().sum()"
      ]
    },
    {
      "cell_type": "code",
      "execution_count": null,
      "metadata": {
        "id": "U86MXsIIEoFN",
        "outputId": "61706712-4fde-4f13-e4f6-2e0ab7b9268b"
      },
      "outputs": [
        {
          "data": {
            "text/plain": [
              "0"
            ]
          },
          "execution_count": 12,
          "metadata": {},
          "output_type": "execute_result"
        }
      ],
      "source": [
        "geo_data_1.duplicated().sum()"
      ]
    },
    {
      "cell_type": "code",
      "execution_count": null,
      "metadata": {
        "id": "fa5dkPEKEoFO",
        "outputId": "c51da0b1-848b-409f-a68f-b1f1fb6c062f"
      },
      "outputs": [
        {
          "data": {
            "text/plain": [
              "0"
            ]
          },
          "execution_count": 13,
          "metadata": {},
          "output_type": "execute_result"
        }
      ],
      "source": [
        "geo_data_2.duplicated().sum()"
      ]
    },
    {
      "cell_type": "markdown",
      "metadata": {
        "id": "Q4hcRCkLEoFO"
      },
      "source": [
        "Явных дубликатов нет."
      ]
    },
    {
      "cell_type": "markdown",
      "metadata": {
        "id": "N2snsblzEoFO"
      },
      "source": [
        "## Обучение и проверка модели для каждого региона"
      ]
    },
    {
      "cell_type": "code",
      "execution_count": null,
      "metadata": {
        "id": "PGxcNE5YEoFO"
      },
      "outputs": [],
      "source": [
        "def geo_data_model(geo_data):\n",
        "    geo_data = geo_data.drop(['id'], axis=1) # для дальнейшего исследования и обучения модели удалим столбец 'id'\n",
        "    \n",
        "    features = geo_data.drop(['product'], axis=1) # извлечем признаки\n",
        "    target = geo_data['product'] # извлечем целевой признак\n",
        "    \n",
        "    # отделим 25% данных для валидационной выборки\n",
        "    features_train, features_valid, target_train, target_valid = train_test_split(\n",
        "        features, target, test_size=0.25, random_state=12345) \n",
        "    # features_train - признаки, тренировочная выборка\n",
        "    # target_train - целевой признак, тренировочная выборка\n",
        "    # features_valid - признаки, валидационная выборка\n",
        "    # target_valid - целевой признак, валидационная выборка\n",
        "    \n",
        "    model = LinearRegression() # инициализируем модель LinearRegression\n",
        "    model.fit(features_train, target_train) # обучим модель на тренировочной выборке\n",
        "    predictions_valid = model.predict(features_valid) # получим предсказания модели на валидационной выборке\n",
        "    \n",
        "    result = mean_squared_error(target_valid, predictions_valid) ** 0.5 # значение метрики RMSE на валидационной выборке\n",
        "\n",
        "    predicted_valid = pd.Series(predictions_valid) # предсказания на валидационной выборке\n",
        "    target_valid = target_valid.reset_index(drop=True)  #правильные ответы на валидационной выборке\n",
        "    predicted_valid_mean = predicted_valid.mean() # средний запас предсказанного сырья\n",
        "    \n",
        "    return predicted_valid, target_valid, predicted_valid_mean, result"
      ]
    },
    {
      "cell_type": "code",
      "execution_count": null,
      "metadata": {
        "id": "W-PxgjvpEoFP"
      },
      "outputs": [],
      "source": [
        "predicted_valid_0, target_valid_0, predicted_valid_mean_0, RMSE_0 = geo_data_model(geo_data_0) # 1 регион"
      ]
    },
    {
      "cell_type": "code",
      "execution_count": null,
      "metadata": {
        "id": "XW2wykZ6EoFP"
      },
      "outputs": [],
      "source": [
        "predicted_valid_1, target_valid_1, predicted_valid_mean_1, RMSE_1 = geo_data_model(geo_data_1) # 2 регион"
      ]
    },
    {
      "cell_type": "code",
      "execution_count": null,
      "metadata": {
        "id": "FuvykdzPEoFP"
      },
      "outputs": [],
      "source": [
        "predicted_valid_2, target_valid_2, predicted_valid_mean_2, RMSE_2 = geo_data_model(geo_data_2) # 3 регион"
      ]
    },
    {
      "cell_type": "markdown",
      "metadata": {
        "id": "jRzt4KhjEoFP"
      },
      "source": [
        "Выведем средний запас предсказанного сырья и RMSE модели по регионам."
      ]
    },
    {
      "cell_type": "code",
      "execution_count": null,
      "metadata": {
        "id": "cxz1gsI6EoFQ"
      },
      "outputs": [],
      "source": [
        "result_geo_data = pd.DataFrame({\n",
        "    'Регион':[1, 2, 3],\n",
        "    'Средний запас предсказанного сырья':[predicted_valid_mean_0, predicted_valid_mean_1, predicted_valid_mean_2],\n",
        "    'RMSE модели':[RMSE_0, RMSE_1, RMSE_2]\n",
        "})"
      ]
    },
    {
      "cell_type": "code",
      "execution_count": null,
      "metadata": {
        "id": "10DNmEBREoFQ",
        "outputId": "0f70ec0a-af7d-485a-d9dd-40dea0207f3e"
      },
      "outputs": [
        {
          "data": {
            "text/html": [
              "<div>\n",
              "<style scoped>\n",
              "    .dataframe tbody tr th:only-of-type {\n",
              "        vertical-align: middle;\n",
              "    }\n",
              "\n",
              "    .dataframe tbody tr th {\n",
              "        vertical-align: top;\n",
              "    }\n",
              "\n",
              "    .dataframe thead th {\n",
              "        text-align: right;\n",
              "    }\n",
              "</style>\n",
              "<table border=\"1\" class=\"dataframe\">\n",
              "  <thead>\n",
              "    <tr style=\"text-align: right;\">\n",
              "      <th></th>\n",
              "      <th>Регион</th>\n",
              "      <th>Средний запас предсказанного сырья</th>\n",
              "      <th>RMSE модели</th>\n",
              "    </tr>\n",
              "  </thead>\n",
              "  <tbody>\n",
              "    <tr>\n",
              "      <td>0</td>\n",
              "      <td>1</td>\n",
              "      <td>92.592568</td>\n",
              "      <td>37.579422</td>\n",
              "    </tr>\n",
              "    <tr>\n",
              "      <td>1</td>\n",
              "      <td>2</td>\n",
              "      <td>68.728547</td>\n",
              "      <td>0.893099</td>\n",
              "    </tr>\n",
              "    <tr>\n",
              "      <td>2</td>\n",
              "      <td>3</td>\n",
              "      <td>94.965046</td>\n",
              "      <td>40.029709</td>\n",
              "    </tr>\n",
              "  </tbody>\n",
              "</table>\n",
              "</div>"
            ],
            "text/plain": [
              "   Регион  Средний запас предсказанного сырья  RMSE модели\n",
              "0       1                           92.592568    37.579422\n",
              "1       2                           68.728547     0.893099\n",
              "2       3                           94.965046    40.029709"
            ]
          },
          "execution_count": 19,
          "metadata": {},
          "output_type": "execute_result"
        }
      ],
      "source": [
        "result_geo_data"
      ]
    },
    {
      "cell_type": "markdown",
      "metadata": {
        "id": "0EBbWPM7EoFQ"
      },
      "source": [
        "Величина RMSE (англ. root mean squared error, «корень из средней квадратичной ошибки»).\n",
        "\n",
        "Лучшее (наименьшее) значение RMSE получено для 2-го региона, при этом средний запас предсказанного сырья самый меньший.\n",
        "\n",
        "Однако для 1-го и 3-го регионов значения RMSE очень велики. Модели на данных 1-го и 3-го регионов предсказывают гораздо хуже."
      ]
    },
    {
      "cell_type": "markdown",
      "metadata": {
        "id": "7YIwTdRTEoFQ"
      },
      "source": [
        "## Подготовка к расчёту прибыли"
      ]
    },
    {
      "cell_type": "markdown",
      "metadata": {
        "id": "4vyfKtJBEoFR"
      },
      "source": [
        "3.1. Все ключевые значения для расчётов сохраним в отдельных переменных."
      ]
    },
    {
      "cell_type": "code",
      "execution_count": null,
      "metadata": {
        "id": "tZVyunUqEoFR"
      },
      "outputs": [],
      "source": [
        "BUDGET = 10000000000 # Бюджет на разработку скважин в регионе — 10 млрд рублей\n",
        "COUNT_MAX = 500 # при разведке региона исследуют 500 точек\n",
        "COUNT = 200 # с помощью машинного обучения выбирают 200 лучших для разработки\n",
        "REVENUE_ONE_PRODUCT = 450000 # доход с каждой единицы продукта 450 тыс. рублей\n",
        "B = 1000 # количество выборок для техники Bootstrap"
      ]
    },
    {
      "cell_type": "markdown",
      "metadata": {
        "id": "yyNjVX7ZEoFS"
      },
      "source": [
        "3.2. Рассчитаем достаточный объём сырья для безубыточной разработки новой скважины. "
      ]
    },
    {
      "cell_type": "code",
      "execution_count": null,
      "metadata": {
        "id": "T07INxUNEoFS"
      },
      "outputs": [],
      "source": [
        "revenue_one_well = BUDGET / COUNT / REVENUE_ONE_PRODUCT"
      ]
    },
    {
      "cell_type": "code",
      "execution_count": null,
      "metadata": {
        "id": "7iaN8aiSEoFS",
        "outputId": "543693b6-88d3-4ee3-dbba-726fedf98fbe"
      },
      "outputs": [
        {
          "data": {
            "text/plain": [
              "111.11111111111111"
            ]
          },
          "execution_count": 23,
          "metadata": {},
          "output_type": "execute_result"
        }
      ],
      "source": [
        "revenue_one_well # минимальное среднее количество продукта в месторождениях региона, достаточное для разработки"
      ]
    },
    {
      "cell_type": "markdown",
      "metadata": {
        "id": "hpXSUeMqEoFS"
      },
      "source": [
        "Полученный средний объём сырья, достаточный для безубыточной разработки, превышает средние запасы в каждом из регионов. По средним запасам предсказанного сырья нет возможности выделить лучший регион для возможной разработки новых скважин."
      ]
    },
    {
      "cell_type": "markdown",
      "metadata": {
        "id": "_TomJOrtEoFT"
      },
      "source": [
        "## Функция для расчёта прибыли по выбранным скважинам и предсказаниям модели"
      ]
    },
    {
      "cell_type": "markdown",
      "metadata": {
        "id": "2xcPtdAgEoFT"
      },
      "source": [
        "* Выбираем скважины с максимальными значениями предсказаний.\n",
        "* Просуммируем целевое значение объёма сырья, соответствующее этим предсказаниям.\n",
        "* Рассчитаем прибыль для полученного объёма сырья."
      ]
    },
    {
      "cell_type": "code",
      "execution_count": null,
      "metadata": {
        "id": "pcaG5qbiEoFU"
      },
      "outputs": [],
      "source": [
        "# функция для подсчета прибыли\n",
        "def revenue(target, predicted, count, revenue_one_product):\n",
        "    predicted_sorted = predicted.sort_values(ascending=False)\n",
        "    selected = target[predicted_sorted.index][:count]\n",
        "    return revenue_one_product * selected.sum() - BUDGET"
      ]
    },
    {
      "cell_type": "markdown",
      "metadata": {
        "id": "64rP9XMdEoFU"
      },
      "source": [
        "## Расчёт прибыли и рисков "
      ]
    },
    {
      "cell_type": "markdown",
      "metadata": {
        "id": "P5DoEmoQEoFU"
      },
      "source": [
        "Посчитаем риски и прибыль для каждого региона:\n",
        "* Применим технику Bootstrap с 1000 выборок, чтобы найти распределение прибыли.\n",
        "* Найдем среднюю прибыль, 95%-й доверительный интервал и риск убытков. Убыток — это отрицательная прибыль."
      ]
    },
    {
      "cell_type": "code",
      "execution_count": null,
      "metadata": {
        "id": "NuKKehvXEoFU"
      },
      "outputs": [],
      "source": [
        "def revenue_Bootstrap(target, predicted, count, revenue_one_product, BUDGET):\n",
        "    state = np.random.RandomState(12345)\n",
        "    values = []\n",
        "\n",
        "    for _ in range(B):\n",
        "        target_subsample = target.sample(n=COUNT_MAX, replace=True, random_state=state) \n",
        "        predicted_subsample = predicted[target_subsample.index] \n",
        "        val = revenue(target_subsample, predicted_subsample, count, revenue_one_product)\n",
        "        values.append(val) \n",
        "   \n",
        "    values = pd.Series(values)\n",
        "\n",
        "#    values.quantile(0.025) - 2.5%-квантиль \n",
        "#    values.quantile(0.975) - 97.5%-квантиль  \n",
        "#    values.mean() - средняя прибыль \n",
        "#    (values < 0).mean() - риск\n",
        "\n",
        "    return values.mean(), values.quantile(0.025), values.quantile(0.975), (values < 0).mean()"
      ]
    },
    {
      "cell_type": "code",
      "execution_count": null,
      "metadata": {
        "scrolled": true,
        "id": "ybFlGyYZEoFV"
      },
      "outputs": [],
      "source": [
        "mean_0, lower_0, upper_0, risk_0 = revenue_Bootstrap(\n",
        "    target_valid_0, predicted_valid_0, COUNT, REVENUE_ONE_PRODUCT, BUDGET)"
      ]
    },
    {
      "cell_type": "code",
      "execution_count": null,
      "metadata": {
        "id": "U8CooOgqEoFV"
      },
      "outputs": [],
      "source": [
        "mean_1, lower_1, upper_1, risk_1 = revenue_Bootstrap(\n",
        "    target_valid_1, predicted_valid_1, COUNT, REVENUE_ONE_PRODUCT, BUDGET)"
      ]
    },
    {
      "cell_type": "code",
      "execution_count": null,
      "metadata": {
        "id": "FljhPLOeEoFV"
      },
      "outputs": [],
      "source": [
        "mean_2, lower_2, upper_2, risk_2 = revenue_Bootstrap(\n",
        "    target_valid_2, predicted_valid_2, COUNT, REVENUE_ONE_PRODUCT, BUDGET)"
      ]
    },
    {
      "cell_type": "code",
      "execution_count": null,
      "metadata": {
        "id": "A0Ek22rvEoFW"
      },
      "outputs": [],
      "source": [
        "result_geo_data['Средняя прибыль'] = [mean_0, mean_1, mean_2]\n",
        "result_geo_data['95%-й доверительный интервал'] = [[lower_0, upper_0], [lower_1, upper_1], [lower_2, upper_2]]\n",
        "result_geo_data['Риск убытков, %'] = [risk_0 * 100, risk_1 * 100, risk_2 * 100]"
      ]
    },
    {
      "cell_type": "code",
      "execution_count": null,
      "metadata": {
        "id": "8hY7JN_jEoFW",
        "outputId": "f9b82d49-9d3e-4da7-9cea-ce6a66de7e08"
      },
      "outputs": [
        {
          "data": {
            "text/html": [
              "<div>\n",
              "<style scoped>\n",
              "    .dataframe tbody tr th:only-of-type {\n",
              "        vertical-align: middle;\n",
              "    }\n",
              "\n",
              "    .dataframe tbody tr th {\n",
              "        vertical-align: top;\n",
              "    }\n",
              "\n",
              "    .dataframe thead th {\n",
              "        text-align: right;\n",
              "    }\n",
              "</style>\n",
              "<table border=\"1\" class=\"dataframe\">\n",
              "  <thead>\n",
              "    <tr style=\"text-align: right;\">\n",
              "      <th></th>\n",
              "      <th>Регион</th>\n",
              "      <th>Средний запас предсказанного сырья</th>\n",
              "      <th>RMSE модели</th>\n",
              "      <th>Средняя прибыль</th>\n",
              "      <th>95%-й доверительный интервал</th>\n",
              "      <th>Риск убытков, %</th>\n",
              "    </tr>\n",
              "  </thead>\n",
              "  <tbody>\n",
              "    <tr>\n",
              "      <td>0</td>\n",
              "      <td>1</td>\n",
              "      <td>92.592568</td>\n",
              "      <td>37.579422</td>\n",
              "      <td>4.259385e+08</td>\n",
              "      <td>[-102090094.83793654, 947976353.358369]</td>\n",
              "      <td>6.0</td>\n",
              "    </tr>\n",
              "    <tr>\n",
              "      <td>1</td>\n",
              "      <td>2</td>\n",
              "      <td>68.728547</td>\n",
              "      <td>0.893099</td>\n",
              "      <td>5.152228e+08</td>\n",
              "      <td>[68873225.37050177, 931547591.2570496]</td>\n",
              "      <td>1.0</td>\n",
              "    </tr>\n",
              "    <tr>\n",
              "      <td>2</td>\n",
              "      <td>3</td>\n",
              "      <td>94.965046</td>\n",
              "      <td>40.029709</td>\n",
              "      <td>4.350084e+08</td>\n",
              "      <td>[-128880547.32978901, 969706954.1802679]</td>\n",
              "      <td>6.4</td>\n",
              "    </tr>\n",
              "  </tbody>\n",
              "</table>\n",
              "</div>"
            ],
            "text/plain": [
              "   Регион  Средний запас предсказанного сырья  RMSE модели  Средняя прибыль  \\\n",
              "0       1                           92.592568    37.579422     4.259385e+08   \n",
              "1       2                           68.728547     0.893099     5.152228e+08   \n",
              "2       3                           94.965046    40.029709     4.350084e+08   \n",
              "\n",
              "               95%-й доверительный интервал  Риск убытков, %  \n",
              "0   [-102090094.83793654, 947976353.358369]              6.0  \n",
              "1    [68873225.37050177, 931547591.2570496]              1.0  \n",
              "2  [-128880547.32978901, 969706954.1802679]              6.4  "
            ]
          },
          "execution_count": 31,
          "metadata": {},
          "output_type": "execute_result"
        }
      ],
      "source": [
        "result_geo_data"
      ]
    },
    {
      "cell_type": "code",
      "execution_count": null,
      "metadata": {
        "id": "U5sPLRMsEoFW",
        "outputId": "52a245c4-94f4-4531-8bde-bb28df468016"
      },
      "outputs": [
        {
          "data": {
            "text/plain": [
              "515222773.44328994"
            ]
          },
          "execution_count": 32,
          "metadata": {},
          "output_type": "execute_result"
        }
      ],
      "source": [
        "mean_1"
      ]
    },
    {
      "cell_type": "markdown",
      "metadata": {
        "id": "JdiFHXCOEoFX"
      },
      "source": [
        "**Общий вывод** \n",
        "\n",
        "В качестве региона для разработки скважин считаю возможным предложить 2-ой регион, в связи с тем, что по результатам исследования у этого региона:\n",
        "* наименьшая вероятность убытков: 1% (меньше 2.5%)\n",
        "* наибольшая средняя прибыль: 515 222 773.44 \n",
        "    "
      ]
    }
  ],
  "metadata": {
    "ExecuteTimeLog": [
      {
        "duration": 1187,
        "start_time": "2022-03-01T08:03:38.278Z"
      },
      {
        "duration": 3,
        "start_time": "2022-03-01T08:04:02.962Z"
      },
      {
        "duration": 4,
        "start_time": "2022-03-01T08:12:09.192Z"
      },
      {
        "duration": 129,
        "start_time": "2022-03-01T08:20:32.874Z"
      },
      {
        "duration": 129,
        "start_time": "2022-03-01T08:20:34.410Z"
      },
      {
        "duration": 121,
        "start_time": "2022-03-01T08:20:35.441Z"
      },
      {
        "duration": 18,
        "start_time": "2022-03-01T08:22:56.162Z"
      },
      {
        "duration": 11,
        "start_time": "2022-03-01T08:22:59.922Z"
      },
      {
        "duration": 12,
        "start_time": "2022-03-01T08:23:03.946Z"
      },
      {
        "duration": 12,
        "start_time": "2022-03-01T08:33:36.297Z"
      },
      {
        "duration": 11,
        "start_time": "2022-03-01T08:33:42.130Z"
      },
      {
        "duration": 13,
        "start_time": "2022-03-01T08:33:50.233Z"
      },
      {
        "duration": 40,
        "start_time": "2022-03-01T08:35:16.674Z"
      },
      {
        "duration": 40,
        "start_time": "2022-03-01T08:35:19.410Z"
      },
      {
        "duration": 42,
        "start_time": "2022-03-01T08:35:21.986Z"
      },
      {
        "duration": 10,
        "start_time": "2022-03-01T08:44:40.707Z"
      },
      {
        "duration": 11,
        "start_time": "2022-03-01T08:44:46.683Z"
      },
      {
        "duration": 18,
        "start_time": "2022-03-01T08:45:07.446Z"
      },
      {
        "duration": 13,
        "start_time": "2022-03-01T08:45:22.715Z"
      },
      {
        "duration": 175,
        "start_time": "2022-03-01T08:45:50.387Z"
      },
      {
        "duration": 9,
        "start_time": "2022-03-01T09:07:33.054Z"
      },
      {
        "duration": 10,
        "start_time": "2022-03-01T09:07:34.580Z"
      },
      {
        "duration": 10,
        "start_time": "2022-03-01T09:08:31.887Z"
      },
      {
        "duration": 18,
        "start_time": "2022-03-01T09:08:32.931Z"
      },
      {
        "duration": 13,
        "start_time": "2022-03-01T09:08:33.956Z"
      },
      {
        "duration": 12,
        "start_time": "2022-03-01T09:08:35.037Z"
      },
      {
        "duration": 12,
        "start_time": "2022-03-01T09:11:33.942Z"
      },
      {
        "duration": 34,
        "start_time": "2022-03-01T09:11:35.140Z"
      },
      {
        "duration": 10,
        "start_time": "2022-03-01T09:11:36.779Z"
      },
      {
        "duration": 14,
        "start_time": "2022-03-01T09:11:40.003Z"
      },
      {
        "duration": 15,
        "start_time": "2022-03-01T09:12:18.509Z"
      },
      {
        "duration": 38,
        "start_time": "2022-03-01T09:12:20.612Z"
      },
      {
        "duration": 9,
        "start_time": "2022-03-01T09:12:21.955Z"
      },
      {
        "duration": 11,
        "start_time": "2022-03-01T09:12:23.245Z"
      },
      {
        "duration": 101,
        "start_time": "2022-03-01T09:12:34.140Z"
      },
      {
        "duration": 6,
        "start_time": "2022-03-01T09:14:00.687Z"
      },
      {
        "duration": 41,
        "start_time": "2022-03-01T09:14:37.646Z"
      },
      {
        "duration": 3,
        "start_time": "2022-03-01T09:15:25.691Z"
      },
      {
        "duration": 4,
        "start_time": "2022-03-01T09:15:27.484Z"
      },
      {
        "duration": 4,
        "start_time": "2022-03-01T09:19:28.170Z"
      },
      {
        "duration": 5,
        "start_time": "2022-03-01T09:19:30.597Z"
      },
      {
        "duration": 7,
        "start_time": "2022-03-01T09:19:32.812Z"
      },
      {
        "duration": 4,
        "start_time": "2022-03-01T09:19:34.373Z"
      },
      {
        "duration": 1860,
        "start_time": "2022-03-02T02:33:58.143Z"
      },
      {
        "duration": 5,
        "start_time": "2022-03-02T02:34:00.006Z"
      },
      {
        "duration": 13,
        "start_time": "2022-03-02T02:34:00.014Z"
      },
      {
        "duration": 260,
        "start_time": "2022-03-02T02:34:00.030Z"
      },
      {
        "duration": 232,
        "start_time": "2022-03-02T02:34:00.293Z"
      },
      {
        "duration": 193,
        "start_time": "2022-03-02T02:34:00.528Z"
      },
      {
        "duration": 53,
        "start_time": "2022-03-02T02:34:00.725Z"
      },
      {
        "duration": 26,
        "start_time": "2022-03-02T02:34:00.784Z"
      },
      {
        "duration": 25,
        "start_time": "2022-03-02T02:34:00.814Z"
      },
      {
        "duration": 51,
        "start_time": "2022-03-02T02:34:00.842Z"
      },
      {
        "duration": 20,
        "start_time": "2022-03-02T02:34:00.897Z"
      },
      {
        "duration": 20,
        "start_time": "2022-03-02T02:34:00.920Z"
      },
      {
        "duration": 121,
        "start_time": "2022-03-02T02:34:00.975Z"
      },
      {
        "duration": 116,
        "start_time": "2022-03-02T02:34:01.099Z"
      },
      {
        "duration": 110,
        "start_time": "2022-03-02T02:34:01.218Z"
      },
      {
        "duration": 8,
        "start_time": "2022-03-02T02:34:01.330Z"
      },
      {
        "duration": 35,
        "start_time": "2022-03-02T02:34:01.340Z"
      },
      {
        "duration": 27,
        "start_time": "2022-03-02T02:34:01.378Z"
      },
      {
        "duration": 31,
        "start_time": "2022-03-02T02:34:01.408Z"
      },
      {
        "duration": 17,
        "start_time": "2022-03-02T02:34:01.442Z"
      },
      {
        "duration": 34,
        "start_time": "2022-03-02T02:34:01.462Z"
      },
      {
        "duration": 21,
        "start_time": "2022-03-02T02:34:01.499Z"
      },
      {
        "duration": 10,
        "start_time": "2022-03-02T02:34:01.527Z"
      },
      {
        "duration": 9,
        "start_time": "2022-03-02T02:34:01.540Z"
      },
      {
        "duration": 46,
        "start_time": "2022-03-02T02:34:01.552Z"
      },
      {
        "duration": 18,
        "start_time": "2022-03-02T02:34:01.601Z"
      },
      {
        "duration": 10,
        "start_time": "2022-03-02T02:34:01.622Z"
      },
      {
        "duration": 15,
        "start_time": "2022-03-02T02:34:01.635Z"
      },
      {
        "duration": 25,
        "start_time": "2022-03-02T02:34:01.653Z"
      },
      {
        "duration": 5,
        "start_time": "2022-03-02T03:06:27.535Z"
      },
      {
        "duration": 21,
        "start_time": "2022-03-02T03:10:17.108Z"
      },
      {
        "duration": 17,
        "start_time": "2022-03-02T03:12:14.600Z"
      },
      {
        "duration": 6,
        "start_time": "2022-03-02T03:13:53.287Z"
      },
      {
        "duration": 9,
        "start_time": "2022-03-02T03:16:20.317Z"
      },
      {
        "duration": 5,
        "start_time": "2022-03-02T03:18:35.022Z"
      },
      {
        "duration": 3,
        "start_time": "2022-03-02T03:20:27.504Z"
      },
      {
        "duration": 7,
        "start_time": "2022-03-02T03:21:20.753Z"
      },
      {
        "duration": 8,
        "start_time": "2022-03-02T03:24:31.655Z"
      },
      {
        "duration": 5,
        "start_time": "2022-03-02T03:26:39.678Z"
      },
      {
        "duration": 5,
        "start_time": "2022-03-02T03:26:48.142Z"
      },
      {
        "duration": 6,
        "start_time": "2022-03-02T03:32:46.380Z"
      },
      {
        "duration": 6,
        "start_time": "2022-03-02T03:33:53.874Z"
      },
      {
        "duration": 1359,
        "start_time": "2022-03-02T03:54:35.138Z"
      },
      {
        "duration": 3,
        "start_time": "2022-03-02T03:54:36.500Z"
      },
      {
        "duration": 6,
        "start_time": "2022-03-02T03:54:36.506Z"
      },
      {
        "duration": 173,
        "start_time": "2022-03-02T03:54:36.515Z"
      },
      {
        "duration": 164,
        "start_time": "2022-03-02T03:54:36.691Z"
      },
      {
        "duration": 165,
        "start_time": "2022-03-02T03:54:36.857Z"
      },
      {
        "duration": 31,
        "start_time": "2022-03-02T03:54:37.025Z"
      },
      {
        "duration": 17,
        "start_time": "2022-03-02T03:54:37.077Z"
      },
      {
        "duration": 16,
        "start_time": "2022-03-02T03:54:37.099Z"
      },
      {
        "duration": 55,
        "start_time": "2022-03-02T03:54:37.118Z"
      },
      {
        "duration": 14,
        "start_time": "2022-03-02T03:54:37.176Z"
      },
      {
        "duration": 14,
        "start_time": "2022-03-02T03:54:37.192Z"
      },
      {
        "duration": 106,
        "start_time": "2022-03-02T03:54:37.209Z"
      },
      {
        "duration": 74,
        "start_time": "2022-03-02T03:54:37.317Z"
      },
      {
        "duration": 82,
        "start_time": "2022-03-02T03:54:37.393Z"
      },
      {
        "duration": 8,
        "start_time": "2022-03-02T03:54:37.477Z"
      },
      {
        "duration": 17,
        "start_time": "2022-03-02T03:54:37.487Z"
      },
      {
        "duration": 7,
        "start_time": "2022-03-02T03:54:37.506Z"
      },
      {
        "duration": 17,
        "start_time": "2022-03-02T03:54:37.516Z"
      },
      {
        "duration": 37,
        "start_time": "2022-03-02T03:54:37.536Z"
      },
      {
        "duration": 16,
        "start_time": "2022-03-02T03:54:37.576Z"
      },
      {
        "duration": 10,
        "start_time": "2022-03-02T03:54:37.595Z"
      },
      {
        "duration": 8,
        "start_time": "2022-03-02T03:54:37.610Z"
      },
      {
        "duration": 6,
        "start_time": "2022-03-02T03:54:37.621Z"
      },
      {
        "duration": 55,
        "start_time": "2022-03-02T03:54:37.630Z"
      },
      {
        "duration": 5,
        "start_time": "2022-03-02T03:54:37.687Z"
      },
      {
        "duration": 9,
        "start_time": "2022-03-02T03:54:37.695Z"
      },
      {
        "duration": 11,
        "start_time": "2022-03-02T03:54:37.706Z"
      },
      {
        "duration": 7,
        "start_time": "2022-03-02T03:54:37.719Z"
      },
      {
        "duration": 58,
        "start_time": "2022-03-02T03:54:37.728Z"
      },
      {
        "duration": 5,
        "start_time": "2022-03-02T03:54:37.876Z"
      },
      {
        "duration": 10,
        "start_time": "2022-03-02T03:54:37.974Z"
      },
      {
        "duration": 6,
        "start_time": "2022-03-02T03:54:37.987Z"
      },
      {
        "duration": 12,
        "start_time": "2022-03-02T03:54:37.995Z"
      },
      {
        "duration": 11,
        "start_time": "2022-03-02T03:54:38.009Z"
      },
      {
        "duration": 13,
        "start_time": "2022-03-02T03:56:27.505Z"
      },
      {
        "duration": 7,
        "start_time": "2022-03-02T03:56:40.751Z"
      },
      {
        "duration": 14,
        "start_time": "2022-03-02T03:57:43.764Z"
      },
      {
        "duration": 7,
        "start_time": "2022-03-02T03:57:53.737Z"
      },
      {
        "duration": 14,
        "start_time": "2022-03-02T03:58:02.424Z"
      },
      {
        "duration": 8,
        "start_time": "2022-03-02T03:58:11.536Z"
      },
      {
        "duration": 17,
        "start_time": "2022-03-02T03:59:03.912Z"
      },
      {
        "duration": 22,
        "start_time": "2022-03-02T03:59:11.615Z"
      },
      {
        "duration": 5,
        "start_time": "2022-03-02T03:59:18.705Z"
      },
      {
        "duration": 7,
        "start_time": "2022-03-02T03:59:20.153Z"
      },
      {
        "duration": 4,
        "start_time": "2022-03-02T03:59:21.759Z"
      },
      {
        "duration": 6,
        "start_time": "2022-03-02T03:59:24.793Z"
      },
      {
        "duration": 7,
        "start_time": "2022-03-02T03:59:38.127Z"
      },
      {
        "duration": 1363,
        "start_time": "2022-03-02T04:00:00.437Z"
      },
      {
        "duration": 4,
        "start_time": "2022-03-02T04:00:01.802Z"
      },
      {
        "duration": 13,
        "start_time": "2022-03-02T04:00:01.809Z"
      },
      {
        "duration": 170,
        "start_time": "2022-03-02T04:00:01.825Z"
      },
      {
        "duration": 157,
        "start_time": "2022-03-02T04:00:01.997Z"
      },
      {
        "duration": 168,
        "start_time": "2022-03-02T04:00:02.156Z"
      },
      {
        "duration": 29,
        "start_time": "2022-03-02T04:00:02.326Z"
      },
      {
        "duration": 30,
        "start_time": "2022-03-02T04:00:02.358Z"
      },
      {
        "duration": 36,
        "start_time": "2022-03-02T04:00:02.391Z"
      },
      {
        "duration": 33,
        "start_time": "2022-03-02T04:00:02.430Z"
      },
      {
        "duration": 13,
        "start_time": "2022-03-02T04:00:02.466Z"
      },
      {
        "duration": 17,
        "start_time": "2022-03-02T04:00:02.482Z"
      },
      {
        "duration": 104,
        "start_time": "2022-03-02T04:00:02.501Z"
      },
      {
        "duration": 84,
        "start_time": "2022-03-02T04:00:02.607Z"
      },
      {
        "duration": 87,
        "start_time": "2022-03-02T04:00:02.693Z"
      },
      {
        "duration": 7,
        "start_time": "2022-03-02T04:00:02.782Z"
      },
      {
        "duration": 23,
        "start_time": "2022-03-02T04:00:02.792Z"
      },
      {
        "duration": 14,
        "start_time": "2022-03-02T04:00:02.818Z"
      },
      {
        "duration": 39,
        "start_time": "2022-03-02T04:00:02.834Z"
      },
      {
        "duration": 8,
        "start_time": "2022-03-02T04:00:02.875Z"
      },
      {
        "duration": 22,
        "start_time": "2022-03-02T04:00:02.886Z"
      },
      {
        "duration": 9,
        "start_time": "2022-03-02T04:00:02.910Z"
      },
      {
        "duration": 20,
        "start_time": "2022-03-02T04:00:02.923Z"
      },
      {
        "duration": 32,
        "start_time": "2022-03-02T04:00:02.946Z"
      },
      {
        "duration": 27,
        "start_time": "2022-03-02T04:00:02.980Z"
      },
      {
        "duration": 14,
        "start_time": "2022-03-02T04:00:03.009Z"
      },
      {
        "duration": 10,
        "start_time": "2022-03-02T04:00:03.026Z"
      },
      {
        "duration": 43,
        "start_time": "2022-03-02T04:00:03.038Z"
      },
      {
        "duration": 17,
        "start_time": "2022-03-02T04:00:03.083Z"
      },
      {
        "duration": 21,
        "start_time": "2022-03-02T04:00:03.102Z"
      },
      {
        "duration": 49,
        "start_time": "2022-03-02T04:00:03.126Z"
      },
      {
        "duration": 96,
        "start_time": "2022-03-02T04:00:03.178Z"
      },
      {
        "duration": 9,
        "start_time": "2022-03-02T04:00:03.277Z"
      },
      {
        "duration": 84,
        "start_time": "2022-03-02T04:00:03.289Z"
      },
      {
        "duration": 7,
        "start_time": "2022-03-02T04:00:03.376Z"
      },
      {
        "duration": 15,
        "start_time": "2022-03-02T04:00:03.385Z"
      },
      {
        "duration": 7,
        "start_time": "2022-03-02T04:18:07.954Z"
      },
      {
        "duration": 40,
        "start_time": "2022-03-02T04:18:09.916Z"
      },
      {
        "duration": 6,
        "start_time": "2022-03-02T04:18:37.244Z"
      },
      {
        "duration": 8,
        "start_time": "2022-03-02T04:18:42.101Z"
      },
      {
        "duration": 6,
        "start_time": "2022-03-02T04:18:52.418Z"
      },
      {
        "duration": 6,
        "start_time": "2022-03-02T04:18:54.893Z"
      },
      {
        "duration": 369,
        "start_time": "2022-03-02T08:36:23.044Z"
      },
      {
        "duration": 934,
        "start_time": "2022-03-02T08:36:43.953Z"
      },
      {
        "duration": 2,
        "start_time": "2022-03-02T08:36:44.889Z"
      },
      {
        "duration": 126,
        "start_time": "2022-03-02T08:36:44.893Z"
      },
      {
        "duration": 105,
        "start_time": "2022-03-02T08:36:45.020Z"
      },
      {
        "duration": 105,
        "start_time": "2022-03-02T08:36:45.127Z"
      },
      {
        "duration": 15,
        "start_time": "2022-03-02T08:36:45.233Z"
      },
      {
        "duration": 8,
        "start_time": "2022-03-02T08:36:45.249Z"
      },
      {
        "duration": 11,
        "start_time": "2022-03-02T08:36:45.259Z"
      },
      {
        "duration": 11,
        "start_time": "2022-03-02T08:36:45.272Z"
      },
      {
        "duration": 22,
        "start_time": "2022-03-02T08:36:45.284Z"
      },
      {
        "duration": 8,
        "start_time": "2022-03-02T08:36:45.307Z"
      },
      {
        "duration": 34,
        "start_time": "2022-03-02T08:36:45.316Z"
      },
      {
        "duration": 31,
        "start_time": "2022-03-02T08:36:45.351Z"
      },
      {
        "duration": 51,
        "start_time": "2022-03-02T08:36:45.384Z"
      },
      {
        "duration": 4,
        "start_time": "2022-03-02T08:36:45.436Z"
      },
      {
        "duration": 64,
        "start_time": "2022-03-02T08:36:45.442Z"
      },
      {
        "duration": 114,
        "start_time": "2022-03-02T08:36:45.511Z"
      },
      {
        "duration": 118,
        "start_time": "2022-03-02T08:36:45.707Z"
      },
      {
        "duration": 83,
        "start_time": "2022-03-02T08:36:45.827Z"
      },
      {
        "duration": 97,
        "start_time": "2022-03-02T08:36:45.911Z"
      },
      {
        "duration": 5,
        "start_time": "2022-03-02T08:36:46.010Z"
      },
      {
        "duration": 4,
        "start_time": "2022-03-02T08:36:46.017Z"
      },
      {
        "duration": 5,
        "start_time": "2022-03-02T08:36:46.023Z"
      },
      {
        "duration": 329,
        "start_time": "2022-03-02T08:36:46.029Z"
      },
      {
        "duration": 4,
        "start_time": "2022-03-02T08:37:43.824Z"
      },
      {
        "duration": 5,
        "start_time": "2022-03-02T08:37:45.828Z"
      },
      {
        "duration": 3,
        "start_time": "2022-03-02T08:37:47.389Z"
      },
      {
        "duration": 3,
        "start_time": "2022-03-02T08:37:50.429Z"
      },
      {
        "duration": 3,
        "start_time": "2022-03-02T08:47:19.949Z"
      },
      {
        "duration": 6,
        "start_time": "2022-03-02T08:47:33.141Z"
      },
      {
        "duration": 4,
        "start_time": "2022-03-02T08:48:11.910Z"
      },
      {
        "duration": 6,
        "start_time": "2022-03-02T08:48:13.962Z"
      },
      {
        "duration": 7,
        "start_time": "2022-03-02T09:03:45.075Z"
      },
      {
        "duration": 7,
        "start_time": "2022-03-02T09:03:58.760Z"
      },
      {
        "duration": 6,
        "start_time": "2022-03-02T09:04:06.881Z"
      },
      {
        "duration": 3,
        "start_time": "2022-03-02T09:26:38.920Z"
      },
      {
        "duration": 3,
        "start_time": "2022-03-02T09:26:40.109Z"
      },
      {
        "duration": 2,
        "start_time": "2022-03-02T09:26:41.439Z"
      },
      {
        "duration": 2,
        "start_time": "2022-03-02T09:26:42.736Z"
      },
      {
        "duration": 3,
        "start_time": "2022-03-02T09:26:51.314Z"
      },
      {
        "duration": 3,
        "start_time": "2022-03-02T09:34:39.163Z"
      },
      {
        "duration": 4,
        "start_time": "2022-03-02T09:34:41.159Z"
      },
      {
        "duration": 975,
        "start_time": "2022-03-02T09:51:48.221Z"
      },
      {
        "duration": 2,
        "start_time": "2022-03-02T09:51:49.197Z"
      },
      {
        "duration": 114,
        "start_time": "2022-03-02T09:51:49.205Z"
      },
      {
        "duration": 108,
        "start_time": "2022-03-02T09:51:49.321Z"
      },
      {
        "duration": 110,
        "start_time": "2022-03-02T09:51:49.430Z"
      },
      {
        "duration": 15,
        "start_time": "2022-03-02T09:51:49.542Z"
      },
      {
        "duration": 8,
        "start_time": "2022-03-02T09:51:49.558Z"
      },
      {
        "duration": 10,
        "start_time": "2022-03-02T09:51:49.568Z"
      },
      {
        "duration": 27,
        "start_time": "2022-03-02T09:51:49.579Z"
      },
      {
        "duration": 8,
        "start_time": "2022-03-02T09:51:49.608Z"
      },
      {
        "duration": 15,
        "start_time": "2022-03-02T09:51:49.617Z"
      },
      {
        "duration": 36,
        "start_time": "2022-03-02T09:51:49.633Z"
      },
      {
        "duration": 51,
        "start_time": "2022-03-02T09:51:49.670Z"
      },
      {
        "duration": 35,
        "start_time": "2022-03-02T09:51:49.722Z"
      },
      {
        "duration": 4,
        "start_time": "2022-03-02T09:51:49.759Z"
      },
      {
        "duration": 49,
        "start_time": "2022-03-02T09:51:49.765Z"
      },
      {
        "duration": 118,
        "start_time": "2022-03-02T09:51:49.907Z"
      },
      {
        "duration": 192,
        "start_time": "2022-03-02T09:51:50.027Z"
      },
      {
        "duration": 4,
        "start_time": "2022-03-02T09:51:50.222Z"
      },
      {
        "duration": 9,
        "start_time": "2022-03-02T09:51:50.306Z"
      },
      {
        "duration": 90,
        "start_time": "2022-03-02T09:51:50.406Z"
      },
      {
        "duration": -51,
        "start_time": "2022-03-02T09:51:50.548Z"
      },
      {
        "duration": -61,
        "start_time": "2022-03-02T09:51:50.559Z"
      },
      {
        "duration": 84,
        "start_time": "2022-03-02T10:13:03.826Z"
      },
      {
        "duration": 2,
        "start_time": "2022-03-02T10:13:16.171Z"
      },
      {
        "duration": 3,
        "start_time": "2022-03-02T10:13:18.031Z"
      },
      {
        "duration": 3,
        "start_time": "2022-03-02T10:13:19.310Z"
      },
      {
        "duration": 3,
        "start_time": "2022-03-02T10:15:15.710Z"
      },
      {
        "duration": 7,
        "start_time": "2022-03-02T10:17:30.793Z"
      },
      {
        "duration": 3,
        "start_time": "2022-03-02T10:18:04.102Z"
      },
      {
        "duration": 8,
        "start_time": "2022-03-02T10:19:29.135Z"
      },
      {
        "duration": 3,
        "start_time": "2022-03-02T10:19:30.278Z"
      },
      {
        "duration": 7,
        "start_time": "2022-03-02T10:19:32.078Z"
      },
      {
        "duration": 4,
        "start_time": "2022-03-02T10:19:33.341Z"
      },
      {
        "duration": 2,
        "start_time": "2022-03-02T10:32:12.903Z"
      },
      {
        "duration": 302,
        "start_time": "2022-03-02T10:50:23.992Z"
      },
      {
        "duration": 238,
        "start_time": "2022-03-02T10:50:46.502Z"
      },
      {
        "duration": 5286,
        "start_time": "2022-03-02T10:50:57.530Z"
      },
      {
        "duration": 4974,
        "start_time": "2022-03-02T10:57:26.732Z"
      },
      {
        "duration": 34,
        "start_time": "2022-03-02T10:59:34.638Z"
      },
      {
        "duration": 26,
        "start_time": "2022-03-02T11:17:25.018Z"
      },
      {
        "duration": 2802,
        "start_time": "2022-03-02T11:18:45.899Z"
      },
      {
        "duration": 3,
        "start_time": "2022-03-02T11:22:08.994Z"
      },
      {
        "duration": 4,
        "start_time": "2022-03-02T11:28:44.154Z"
      },
      {
        "duration": 2793,
        "start_time": "2022-03-02T11:28:49.534Z"
      },
      {
        "duration": 2845,
        "start_time": "2022-03-02T11:29:40.138Z"
      },
      {
        "duration": 2844,
        "start_time": "2022-03-02T11:29:55.898Z"
      },
      {
        "duration": 2786,
        "start_time": "2022-03-02T11:30:16.251Z"
      },
      {
        "duration": 953,
        "start_time": "2022-03-02T11:51:33.639Z"
      },
      {
        "duration": 2,
        "start_time": "2022-03-02T11:51:34.593Z"
      },
      {
        "duration": 124,
        "start_time": "2022-03-02T11:51:34.605Z"
      },
      {
        "duration": 107,
        "start_time": "2022-03-02T11:51:34.731Z"
      },
      {
        "duration": 109,
        "start_time": "2022-03-02T11:51:34.840Z"
      },
      {
        "duration": 15,
        "start_time": "2022-03-02T11:51:34.951Z"
      },
      {
        "duration": 9,
        "start_time": "2022-03-02T11:51:34.968Z"
      },
      {
        "duration": 12,
        "start_time": "2022-03-02T11:51:34.979Z"
      },
      {
        "duration": 18,
        "start_time": "2022-03-02T11:51:34.992Z"
      },
      {
        "duration": 9,
        "start_time": "2022-03-02T11:51:35.011Z"
      },
      {
        "duration": 8,
        "start_time": "2022-03-02T11:51:35.021Z"
      },
      {
        "duration": 35,
        "start_time": "2022-03-02T11:51:35.030Z"
      },
      {
        "duration": 53,
        "start_time": "2022-03-02T11:51:35.067Z"
      },
      {
        "duration": 34,
        "start_time": "2022-03-02T11:51:35.122Z"
      },
      {
        "duration": 4,
        "start_time": "2022-03-02T11:51:35.157Z"
      },
      {
        "duration": 47,
        "start_time": "2022-03-02T11:51:35.162Z"
      },
      {
        "duration": 214,
        "start_time": "2022-03-02T11:51:35.211Z"
      },
      {
        "duration": 114,
        "start_time": "2022-03-02T11:51:35.505Z"
      },
      {
        "duration": 84,
        "start_time": "2022-03-02T11:51:35.622Z"
      },
      {
        "duration": 102,
        "start_time": "2022-03-02T11:51:35.708Z"
      },
      {
        "duration": 5,
        "start_time": "2022-03-02T11:51:35.812Z"
      },
      {
        "duration": 5,
        "start_time": "2022-03-02T11:51:35.820Z"
      },
      {
        "duration": 9,
        "start_time": "2022-03-02T11:51:35.826Z"
      },
      {
        "duration": 8,
        "start_time": "2022-03-02T11:51:35.836Z"
      },
      {
        "duration": 10,
        "start_time": "2022-03-02T11:51:35.845Z"
      },
      {
        "duration": 2799,
        "start_time": "2022-03-02T11:51:35.857Z"
      },
      {
        "duration": 2786,
        "start_time": "2022-03-02T11:51:38.658Z"
      },
      {
        "duration": 2994,
        "start_time": "2022-03-02T11:51:41.446Z"
      },
      {
        "duration": 967,
        "start_time": "2022-03-02T12:11:58.741Z"
      },
      {
        "duration": 2,
        "start_time": "2022-03-02T12:11:59.710Z"
      },
      {
        "duration": 125,
        "start_time": "2022-03-02T12:11:59.714Z"
      },
      {
        "duration": 123,
        "start_time": "2022-03-02T12:11:59.841Z"
      },
      {
        "duration": 118,
        "start_time": "2022-03-02T12:11:59.965Z"
      },
      {
        "duration": 16,
        "start_time": "2022-03-02T12:12:00.085Z"
      },
      {
        "duration": 11,
        "start_time": "2022-03-02T12:12:00.105Z"
      },
      {
        "duration": 11,
        "start_time": "2022-03-02T12:12:00.118Z"
      },
      {
        "duration": 14,
        "start_time": "2022-03-02T12:12:00.131Z"
      },
      {
        "duration": 10,
        "start_time": "2022-03-02T12:12:00.147Z"
      },
      {
        "duration": 10,
        "start_time": "2022-03-02T12:12:00.159Z"
      },
      {
        "duration": 64,
        "start_time": "2022-03-02T12:12:00.170Z"
      },
      {
        "duration": 36,
        "start_time": "2022-03-02T12:12:00.236Z"
      },
      {
        "duration": 54,
        "start_time": "2022-03-02T12:12:00.274Z"
      },
      {
        "duration": 5,
        "start_time": "2022-03-02T12:12:00.330Z"
      },
      {
        "duration": 69,
        "start_time": "2022-03-02T12:12:00.337Z"
      },
      {
        "duration": 119,
        "start_time": "2022-03-02T12:12:00.408Z"
      },
      {
        "duration": 198,
        "start_time": "2022-03-02T12:12:00.529Z"
      },
      {
        "duration": 81,
        "start_time": "2022-03-02T12:12:00.729Z"
      },
      {
        "duration": 108,
        "start_time": "2022-03-02T12:12:00.813Z"
      },
      {
        "duration": 17,
        "start_time": "2022-03-02T12:12:00.923Z"
      },
      {
        "duration": 12,
        "start_time": "2022-03-02T12:12:00.941Z"
      },
      {
        "duration": 14,
        "start_time": "2022-03-02T12:12:00.956Z"
      },
      {
        "duration": 17,
        "start_time": "2022-03-02T12:12:00.971Z"
      },
      {
        "duration": 21,
        "start_time": "2022-03-02T12:12:00.991Z"
      },
      {
        "duration": 2973,
        "start_time": "2022-03-02T12:12:01.013Z"
      },
      {
        "duration": 2961,
        "start_time": "2022-03-02T12:12:03.987Z"
      },
      {
        "duration": 3057,
        "start_time": "2022-03-02T12:12:06.949Z"
      },
      {
        "duration": 5,
        "start_time": "2022-03-02T13:08:27.161Z"
      },
      {
        "duration": 2898,
        "start_time": "2022-03-02T13:08:28.636Z"
      },
      {
        "duration": 2871,
        "start_time": "2022-03-02T13:08:31.535Z"
      },
      {
        "duration": 2835,
        "start_time": "2022-03-02T13:08:34.407Z"
      },
      {
        "duration": 4,
        "start_time": "2022-03-02T13:09:58.370Z"
      },
      {
        "duration": 2916,
        "start_time": "2022-03-02T13:09:59.796Z"
      },
      {
        "duration": 3035,
        "start_time": "2022-03-02T13:10:02.714Z"
      },
      {
        "duration": 2910,
        "start_time": "2022-03-02T13:10:05.751Z"
      },
      {
        "duration": 7,
        "start_time": "2022-03-02T14:08:53.832Z"
      },
      {
        "duration": 3,
        "start_time": "2022-03-02T14:10:40.088Z"
      },
      {
        "duration": 7,
        "start_time": "2022-03-02T14:10:41.534Z"
      },
      {
        "duration": 3,
        "start_time": "2022-03-02T14:10:48.553Z"
      },
      {
        "duration": 10,
        "start_time": "2022-03-02T14:10:49.503Z"
      },
      {
        "duration": 4,
        "start_time": "2022-03-02T14:12:06.863Z"
      },
      {
        "duration": 8,
        "start_time": "2022-03-02T14:12:17.184Z"
      },
      {
        "duration": 78,
        "start_time": "2022-03-02T14:13:31.230Z"
      },
      {
        "duration": 3,
        "start_time": "2022-03-02T14:14:20.568Z"
      },
      {
        "duration": 8,
        "start_time": "2022-03-02T14:14:23.287Z"
      },
      {
        "duration": 4,
        "start_time": "2022-03-02T14:14:42.197Z"
      },
      {
        "duration": 8,
        "start_time": "2022-03-02T14:14:43.485Z"
      },
      {
        "duration": 3,
        "start_time": "2022-03-02T14:15:28.653Z"
      },
      {
        "duration": 9,
        "start_time": "2022-03-02T14:15:31.460Z"
      },
      {
        "duration": 4,
        "start_time": "2022-03-02T14:15:39.075Z"
      },
      {
        "duration": 9,
        "start_time": "2022-03-02T14:15:40.159Z"
      },
      {
        "duration": 4,
        "start_time": "2022-03-02T14:15:50.188Z"
      },
      {
        "duration": 8,
        "start_time": "2022-03-02T14:15:51.271Z"
      },
      {
        "duration": 3,
        "start_time": "2022-03-02T14:16:01.125Z"
      },
      {
        "duration": 17,
        "start_time": "2022-03-02T14:16:02.215Z"
      },
      {
        "duration": 3,
        "start_time": "2022-03-02T14:16:30.718Z"
      },
      {
        "duration": 8,
        "start_time": "2022-03-02T14:16:33.794Z"
      },
      {
        "duration": 330,
        "start_time": "2022-03-02T14:18:52.414Z"
      },
      {
        "duration": 242,
        "start_time": "2022-03-02T14:19:04.559Z"
      },
      {
        "duration": 261,
        "start_time": "2022-03-02T14:26:10.966Z"
      },
      {
        "duration": 3,
        "start_time": "2022-03-02T14:26:23.173Z"
      },
      {
        "duration": 589,
        "start_time": "2022-03-02T14:27:03.453Z"
      },
      {
        "duration": 586,
        "start_time": "2022-03-02T14:27:35.696Z"
      },
      {
        "duration": 595,
        "start_time": "2022-03-02T14:28:56.790Z"
      },
      {
        "duration": 593,
        "start_time": "2022-03-02T14:29:06.837Z"
      },
      {
        "duration": 73,
        "start_time": "2022-03-02T14:29:21.577Z"
      },
      {
        "duration": 625,
        "start_time": "2022-03-02T14:29:29.589Z"
      },
      {
        "duration": 956,
        "start_time": "2022-03-02T14:30:39.140Z"
      },
      {
        "duration": 3,
        "start_time": "2022-03-02T14:30:40.097Z"
      },
      {
        "duration": 119,
        "start_time": "2022-03-02T14:30:40.101Z"
      },
      {
        "duration": 108,
        "start_time": "2022-03-02T14:30:40.222Z"
      },
      {
        "duration": 105,
        "start_time": "2022-03-02T14:30:40.332Z"
      },
      {
        "duration": 14,
        "start_time": "2022-03-02T14:30:40.439Z"
      },
      {
        "duration": 11,
        "start_time": "2022-03-02T14:30:40.455Z"
      },
      {
        "duration": 10,
        "start_time": "2022-03-02T14:30:40.468Z"
      },
      {
        "duration": 11,
        "start_time": "2022-03-02T14:30:40.479Z"
      },
      {
        "duration": 16,
        "start_time": "2022-03-02T14:30:40.492Z"
      },
      {
        "duration": 8,
        "start_time": "2022-03-02T14:30:40.509Z"
      },
      {
        "duration": 33,
        "start_time": "2022-03-02T14:30:40.518Z"
      },
      {
        "duration": 55,
        "start_time": "2022-03-02T14:30:40.553Z"
      },
      {
        "duration": 33,
        "start_time": "2022-03-02T14:30:40.610Z"
      },
      {
        "duration": 4,
        "start_time": "2022-03-02T14:30:40.644Z"
      },
      {
        "duration": 63,
        "start_time": "2022-03-02T14:30:40.650Z"
      },
      {
        "duration": 190,
        "start_time": "2022-03-02T14:30:40.715Z"
      },
      {
        "duration": 117,
        "start_time": "2022-03-02T14:30:40.907Z"
      },
      {
        "duration": 4,
        "start_time": "2022-03-02T14:30:41.026Z"
      },
      {
        "duration": 103,
        "start_time": "2022-03-02T14:30:41.105Z"
      },
      {
        "duration": 4,
        "start_time": "2022-03-02T14:30:41.210Z"
      },
      {
        "duration": 5,
        "start_time": "2022-03-02T14:30:41.215Z"
      },
      {
        "duration": 3,
        "start_time": "2022-03-02T14:30:41.224Z"
      },
      {
        "duration": 3,
        "start_time": "2022-03-02T14:30:41.229Z"
      },
      {
        "duration": 6,
        "start_time": "2022-03-02T14:30:41.234Z"
      },
      {
        "duration": 2824,
        "start_time": "2022-03-02T14:30:41.241Z"
      },
      {
        "duration": 3030,
        "start_time": "2022-03-02T14:30:44.066Z"
      },
      {
        "duration": 2978,
        "start_time": "2022-03-02T14:30:47.097Z"
      },
      {
        "duration": 5,
        "start_time": "2022-03-02T14:30:50.077Z"
      },
      {
        "duration": 22,
        "start_time": "2022-03-02T14:30:50.083Z"
      },
      {
        "duration": 352,
        "start_time": "2022-03-02T14:34:07.907Z"
      },
      {
        "duration": 1021,
        "start_time": "2022-03-02T14:34:18.875Z"
      },
      {
        "duration": 2,
        "start_time": "2022-03-02T14:34:19.897Z"
      },
      {
        "duration": 121,
        "start_time": "2022-03-02T14:34:19.905Z"
      },
      {
        "duration": 109,
        "start_time": "2022-03-02T14:34:20.028Z"
      },
      {
        "duration": 108,
        "start_time": "2022-03-02T14:34:20.138Z"
      },
      {
        "duration": 15,
        "start_time": "2022-03-02T14:34:20.248Z"
      },
      {
        "duration": 8,
        "start_time": "2022-03-02T14:34:20.264Z"
      },
      {
        "duration": 8,
        "start_time": "2022-03-02T14:34:20.275Z"
      },
      {
        "duration": 24,
        "start_time": "2022-03-02T14:34:20.285Z"
      },
      {
        "duration": 8,
        "start_time": "2022-03-02T14:34:20.311Z"
      },
      {
        "duration": 8,
        "start_time": "2022-03-02T14:34:20.320Z"
      },
      {
        "duration": 35,
        "start_time": "2022-03-02T14:34:20.330Z"
      },
      {
        "duration": 61,
        "start_time": "2022-03-02T14:34:20.367Z"
      },
      {
        "duration": 34,
        "start_time": "2022-03-02T14:34:20.429Z"
      },
      {
        "duration": 4,
        "start_time": "2022-03-02T14:34:20.464Z"
      },
      {
        "duration": 46,
        "start_time": "2022-03-02T14:34:20.470Z"
      },
      {
        "duration": 203,
        "start_time": "2022-03-02T14:34:20.518Z"
      },
      {
        "duration": 198,
        "start_time": "2022-03-02T14:34:20.723Z"
      },
      {
        "duration": 82,
        "start_time": "2022-03-02T14:34:20.924Z"
      },
      {
        "duration": 104,
        "start_time": "2022-03-02T14:34:21.008Z"
      },
      {
        "duration": 4,
        "start_time": "2022-03-02T14:34:21.114Z"
      },
      {
        "duration": 5,
        "start_time": "2022-03-02T14:34:21.119Z"
      },
      {
        "duration": 6,
        "start_time": "2022-03-02T14:34:21.127Z"
      },
      {
        "duration": 4,
        "start_time": "2022-03-02T14:34:21.135Z"
      },
      {
        "duration": 5,
        "start_time": "2022-03-02T14:34:21.140Z"
      },
      {
        "duration": 2872,
        "start_time": "2022-03-02T14:34:21.146Z"
      },
      {
        "duration": 2838,
        "start_time": "2022-03-02T14:34:24.019Z"
      },
      {
        "duration": 2812,
        "start_time": "2022-03-02T14:34:26.859Z"
      },
      {
        "duration": 5,
        "start_time": "2022-03-02T14:34:29.673Z"
      },
      {
        "duration": 339,
        "start_time": "2022-03-02T14:34:29.679Z"
      },
      {
        "duration": 8,
        "start_time": "2022-03-02T14:35:26.578Z"
      },
      {
        "duration": 5,
        "start_time": "2022-03-02T14:36:34.450Z"
      },
      {
        "duration": 8,
        "start_time": "2022-03-02T14:36:35.979Z"
      },
      {
        "duration": 961,
        "start_time": "2022-03-02T14:42:36.538Z"
      },
      {
        "duration": 2,
        "start_time": "2022-03-02T14:42:37.501Z"
      },
      {
        "duration": 115,
        "start_time": "2022-03-02T14:42:37.504Z"
      },
      {
        "duration": 118,
        "start_time": "2022-03-02T14:42:37.621Z"
      },
      {
        "duration": 108,
        "start_time": "2022-03-02T14:42:37.741Z"
      },
      {
        "duration": 15,
        "start_time": "2022-03-02T14:42:37.851Z"
      },
      {
        "duration": 10,
        "start_time": "2022-03-02T14:42:37.868Z"
      },
      {
        "duration": 26,
        "start_time": "2022-03-02T14:42:37.880Z"
      },
      {
        "duration": 10,
        "start_time": "2022-03-02T14:42:37.908Z"
      },
      {
        "duration": 8,
        "start_time": "2022-03-02T14:42:37.919Z"
      },
      {
        "duration": 8,
        "start_time": "2022-03-02T14:42:37.929Z"
      },
      {
        "duration": 35,
        "start_time": "2022-03-02T14:42:37.938Z"
      },
      {
        "duration": 58,
        "start_time": "2022-03-02T14:42:37.974Z"
      },
      {
        "duration": 34,
        "start_time": "2022-03-02T14:42:38.034Z"
      },
      {
        "duration": 4,
        "start_time": "2022-03-02T14:42:38.069Z"
      },
      {
        "duration": 131,
        "start_time": "2022-03-02T14:42:38.075Z"
      },
      {
        "duration": 123,
        "start_time": "2022-03-02T14:42:38.208Z"
      },
      {
        "duration": 188,
        "start_time": "2022-03-02T14:42:38.333Z"
      },
      {
        "duration": 81,
        "start_time": "2022-03-02T14:42:38.523Z"
      },
      {
        "duration": 103,
        "start_time": "2022-03-02T14:42:38.607Z"
      },
      {
        "duration": 5,
        "start_time": "2022-03-02T14:42:38.711Z"
      },
      {
        "duration": 5,
        "start_time": "2022-03-02T14:42:38.718Z"
      },
      {
        "duration": 4,
        "start_time": "2022-03-02T14:42:38.725Z"
      },
      {
        "duration": 4,
        "start_time": "2022-03-02T14:42:38.731Z"
      },
      {
        "duration": 4,
        "start_time": "2022-03-02T14:42:38.736Z"
      },
      {
        "duration": 3136,
        "start_time": "2022-03-02T14:42:38.742Z"
      },
      {
        "duration": 2968,
        "start_time": "2022-03-02T14:42:41.879Z"
      },
      {
        "duration": 2802,
        "start_time": "2022-03-02T14:42:44.848Z"
      },
      {
        "duration": 4,
        "start_time": "2022-03-02T14:42:47.651Z"
      },
      {
        "duration": 11,
        "start_time": "2022-03-02T14:42:47.657Z"
      },
      {
        "duration": 939,
        "start_time": "2022-03-02T14:58:35.757Z"
      },
      {
        "duration": 3,
        "start_time": "2022-03-02T14:58:36.697Z"
      },
      {
        "duration": 115,
        "start_time": "2022-03-02T14:58:36.701Z"
      },
      {
        "duration": 104,
        "start_time": "2022-03-02T14:58:36.818Z"
      },
      {
        "duration": 104,
        "start_time": "2022-03-02T14:58:36.924Z"
      },
      {
        "duration": 15,
        "start_time": "2022-03-02T14:58:37.030Z"
      },
      {
        "duration": 10,
        "start_time": "2022-03-02T14:58:37.046Z"
      },
      {
        "duration": 9,
        "start_time": "2022-03-02T14:58:37.058Z"
      },
      {
        "duration": 11,
        "start_time": "2022-03-02T14:58:37.068Z"
      },
      {
        "duration": 33,
        "start_time": "2022-03-02T14:58:37.080Z"
      },
      {
        "duration": 8,
        "start_time": "2022-03-02T14:58:37.114Z"
      },
      {
        "duration": 36,
        "start_time": "2022-03-02T14:58:37.124Z"
      },
      {
        "duration": 49,
        "start_time": "2022-03-02T14:58:37.162Z"
      },
      {
        "duration": 32,
        "start_time": "2022-03-02T14:58:37.212Z"
      },
      {
        "duration": 4,
        "start_time": "2022-03-02T14:58:37.246Z"
      },
      {
        "duration": 62,
        "start_time": "2022-03-02T14:58:37.251Z"
      },
      {
        "duration": 191,
        "start_time": "2022-03-02T14:58:37.315Z"
      },
      {
        "duration": 117,
        "start_time": "2022-03-02T14:58:37.508Z"
      },
      {
        "duration": 83,
        "start_time": "2022-03-02T14:58:37.627Z"
      },
      {
        "duration": 98,
        "start_time": "2022-03-02T14:58:37.715Z"
      },
      {
        "duration": 4,
        "start_time": "2022-03-02T14:58:37.815Z"
      },
      {
        "duration": 4,
        "start_time": "2022-03-02T14:58:37.820Z"
      },
      {
        "duration": 3,
        "start_time": "2022-03-02T14:58:37.827Z"
      },
      {
        "duration": 4,
        "start_time": "2022-03-02T14:58:37.831Z"
      },
      {
        "duration": 6,
        "start_time": "2022-03-02T14:58:37.836Z"
      },
      {
        "duration": 2800,
        "start_time": "2022-03-02T14:58:37.843Z"
      },
      {
        "duration": 2873,
        "start_time": "2022-03-02T14:58:40.644Z"
      },
      {
        "duration": 2788,
        "start_time": "2022-03-02T14:58:43.519Z"
      },
      {
        "duration": 4,
        "start_time": "2022-03-02T14:58:46.309Z"
      },
      {
        "duration": 12,
        "start_time": "2022-03-02T14:58:46.314Z"
      },
      {
        "duration": 1023,
        "start_time": "2022-03-02T15:13:55.778Z"
      },
      {
        "duration": 2,
        "start_time": "2022-03-02T15:13:56.803Z"
      },
      {
        "duration": 125,
        "start_time": "2022-03-02T15:13:56.807Z"
      },
      {
        "duration": 112,
        "start_time": "2022-03-02T15:13:56.934Z"
      },
      {
        "duration": 122,
        "start_time": "2022-03-02T15:13:57.047Z"
      },
      {
        "duration": 15,
        "start_time": "2022-03-02T15:13:57.170Z"
      },
      {
        "duration": 20,
        "start_time": "2022-03-02T15:13:57.186Z"
      },
      {
        "duration": 9,
        "start_time": "2022-03-02T15:13:57.208Z"
      },
      {
        "duration": 10,
        "start_time": "2022-03-02T15:13:57.219Z"
      },
      {
        "duration": 8,
        "start_time": "2022-03-02T15:13:57.230Z"
      },
      {
        "duration": 8,
        "start_time": "2022-03-02T15:13:57.239Z"
      },
      {
        "duration": 59,
        "start_time": "2022-03-02T15:13:57.249Z"
      },
      {
        "duration": 33,
        "start_time": "2022-03-02T15:13:57.310Z"
      },
      {
        "duration": 33,
        "start_time": "2022-03-02T15:13:57.344Z"
      },
      {
        "duration": 4,
        "start_time": "2022-03-02T15:13:57.378Z"
      },
      {
        "duration": 46,
        "start_time": "2022-03-02T15:13:57.383Z"
      },
      {
        "duration": 186,
        "start_time": "2022-03-02T15:13:57.431Z"
      },
      {
        "duration": 198,
        "start_time": "2022-03-02T15:13:57.619Z"
      },
      {
        "duration": 4,
        "start_time": "2022-03-02T15:13:57.820Z"
      },
      {
        "duration": 102,
        "start_time": "2022-03-02T15:13:57.907Z"
      },
      {
        "duration": 2,
        "start_time": "2022-03-02T15:13:58.011Z"
      },
      {
        "duration": 5,
        "start_time": "2022-03-02T15:13:58.015Z"
      },
      {
        "duration": 6,
        "start_time": "2022-03-02T15:13:58.022Z"
      },
      {
        "duration": 9,
        "start_time": "2022-03-02T15:13:58.029Z"
      },
      {
        "duration": 6,
        "start_time": "2022-03-02T15:13:58.039Z"
      },
      {
        "duration": 2805,
        "start_time": "2022-03-02T15:13:58.046Z"
      },
      {
        "duration": 2935,
        "start_time": "2022-03-02T15:14:00.854Z"
      },
      {
        "duration": 2790,
        "start_time": "2022-03-02T15:14:03.790Z"
      },
      {
        "duration": 4,
        "start_time": "2022-03-02T15:14:06.581Z"
      },
      {
        "duration": 19,
        "start_time": "2022-03-02T15:14:06.587Z"
      },
      {
        "duration": 5,
        "start_time": "2022-03-03T04:42:57.138Z"
      },
      {
        "duration": 393,
        "start_time": "2022-03-03T04:43:08.856Z"
      },
      {
        "duration": 13,
        "start_time": "2022-03-03T04:43:19.966Z"
      },
      {
        "duration": 1620,
        "start_time": "2022-03-03T04:56:11.470Z"
      },
      {
        "duration": 182,
        "start_time": "2022-03-03T04:56:13.094Z"
      },
      {
        "duration": 239,
        "start_time": "2022-03-03T04:56:13.280Z"
      },
      {
        "duration": 245,
        "start_time": "2022-03-03T04:56:13.522Z"
      },
      {
        "duration": 40,
        "start_time": "2022-03-03T04:56:13.773Z"
      },
      {
        "duration": 23,
        "start_time": "2022-03-03T04:56:13.816Z"
      },
      {
        "duration": 46,
        "start_time": "2022-03-03T04:56:13.841Z"
      },
      {
        "duration": 17,
        "start_time": "2022-03-03T04:56:13.891Z"
      },
      {
        "duration": 14,
        "start_time": "2022-03-03T04:56:13.911Z"
      },
      {
        "duration": 50,
        "start_time": "2022-03-03T04:56:13.927Z"
      },
      {
        "duration": 98,
        "start_time": "2022-03-03T04:56:13.980Z"
      },
      {
        "duration": 66,
        "start_time": "2022-03-03T04:56:14.081Z"
      },
      {
        "duration": 88,
        "start_time": "2022-03-03T04:56:14.149Z"
      },
      {
        "duration": 7,
        "start_time": "2022-03-03T04:56:14.239Z"
      },
      {
        "duration": 62,
        "start_time": "2022-03-03T04:56:14.249Z"
      },
      {
        "duration": 182,
        "start_time": "2022-03-03T04:56:14.314Z"
      },
      {
        "duration": 200,
        "start_time": "2022-03-03T04:56:14.500Z"
      },
      {
        "duration": 72,
        "start_time": "2022-03-03T04:56:14.703Z"
      },
      {
        "duration": 103,
        "start_time": "2022-03-03T04:56:14.778Z"
      },
      {
        "duration": 6,
        "start_time": "2022-03-03T04:56:14.883Z"
      },
      {
        "duration": 7,
        "start_time": "2022-03-03T04:56:14.892Z"
      },
      {
        "duration": 8,
        "start_time": "2022-03-03T04:56:14.901Z"
      },
      {
        "duration": 5,
        "start_time": "2022-03-03T04:56:14.914Z"
      },
      {
        "duration": 7,
        "start_time": "2022-03-03T04:56:14.921Z"
      },
      {
        "duration": 44,
        "start_time": "2022-03-03T04:56:14.930Z"
      },
      {
        "duration": 7,
        "start_time": "2022-03-03T04:56:14.976Z"
      },
      {
        "duration": 5236,
        "start_time": "2022-03-03T04:56:14.986Z"
      },
      {
        "duration": 5249,
        "start_time": "2022-03-03T04:56:20.224Z"
      },
      {
        "duration": 5427,
        "start_time": "2022-03-03T04:56:25.475Z"
      },
      {
        "duration": 7,
        "start_time": "2022-03-03T04:56:30.905Z"
      },
      {
        "duration": 19,
        "start_time": "2022-03-03T04:56:30.915Z"
      },
      {
        "duration": 102,
        "start_time": "2022-03-03T04:56:30.937Z"
      },
      {
        "duration": 7,
        "start_time": "2022-03-03T05:05:37.369Z"
      },
      {
        "duration": 1364,
        "start_time": "2022-03-03T05:05:57.947Z"
      },
      {
        "duration": 165,
        "start_time": "2022-03-03T05:05:59.314Z"
      },
      {
        "duration": 167,
        "start_time": "2022-03-03T05:05:59.486Z"
      },
      {
        "duration": 164,
        "start_time": "2022-03-03T05:05:59.655Z"
      },
      {
        "duration": 27,
        "start_time": "2022-03-03T05:05:59.822Z"
      },
      {
        "duration": 31,
        "start_time": "2022-03-03T05:05:59.851Z"
      },
      {
        "duration": 17,
        "start_time": "2022-03-03T05:05:59.886Z"
      },
      {
        "duration": 18,
        "start_time": "2022-03-03T05:05:59.906Z"
      },
      {
        "duration": 51,
        "start_time": "2022-03-03T05:05:59.927Z"
      },
      {
        "duration": 14,
        "start_time": "2022-03-03T05:05:59.981Z"
      },
      {
        "duration": 102,
        "start_time": "2022-03-03T05:05:59.997Z"
      },
      {
        "duration": 90,
        "start_time": "2022-03-03T05:06:00.101Z"
      },
      {
        "duration": 91,
        "start_time": "2022-03-03T05:06:00.193Z"
      },
      {
        "duration": 7,
        "start_time": "2022-03-03T05:06:00.286Z"
      },
      {
        "duration": 178,
        "start_time": "2022-03-03T05:06:00.295Z"
      },
      {
        "duration": 98,
        "start_time": "2022-03-03T05:06:00.476Z"
      },
      {
        "duration": 128,
        "start_time": "2022-03-03T05:06:00.578Z"
      },
      {
        "duration": 98,
        "start_time": "2022-03-03T05:06:00.776Z"
      },
      {
        "duration": 15,
        "start_time": "2022-03-03T05:06:00.877Z"
      },
      {
        "duration": 13,
        "start_time": "2022-03-03T05:06:00.895Z"
      },
      {
        "duration": 11,
        "start_time": "2022-03-03T05:06:00.910Z"
      },
      {
        "duration": 8,
        "start_time": "2022-03-03T05:06:00.926Z"
      },
      {
        "duration": 15,
        "start_time": "2022-03-03T05:06:00.937Z"
      },
      {
        "duration": 19,
        "start_time": "2022-03-03T05:06:00.954Z"
      },
      {
        "duration": 11,
        "start_time": "2022-03-03T05:06:00.976Z"
      },
      {
        "duration": 8,
        "start_time": "2022-03-03T05:06:00.990Z"
      },
      {
        "duration": 5273,
        "start_time": "2022-03-03T05:06:01.000Z"
      },
      {
        "duration": 5458,
        "start_time": "2022-03-03T05:06:06.275Z"
      },
      {
        "duration": 5241,
        "start_time": "2022-03-03T05:06:11.736Z"
      },
      {
        "duration": 7,
        "start_time": "2022-03-03T05:06:16.979Z"
      },
      {
        "duration": 21,
        "start_time": "2022-03-03T05:06:16.988Z"
      },
      {
        "duration": 99,
        "start_time": "2022-03-03T05:06:17.012Z"
      },
      {
        "duration": 5,
        "start_time": "2022-03-03T05:09:11.566Z"
      },
      {
        "duration": 1280,
        "start_time": "2022-03-03T05:13:20.905Z"
      },
      {
        "duration": 165,
        "start_time": "2022-03-03T05:13:22.187Z"
      },
      {
        "duration": 149,
        "start_time": "2022-03-03T05:13:22.355Z"
      },
      {
        "duration": 162,
        "start_time": "2022-03-03T05:13:22.506Z"
      },
      {
        "duration": 27,
        "start_time": "2022-03-03T05:13:22.670Z"
      },
      {
        "duration": 17,
        "start_time": "2022-03-03T05:13:22.699Z"
      },
      {
        "duration": 20,
        "start_time": "2022-03-03T05:13:22.718Z"
      },
      {
        "duration": 44,
        "start_time": "2022-03-03T05:13:22.742Z"
      },
      {
        "duration": 15,
        "start_time": "2022-03-03T05:13:22.789Z"
      },
      {
        "duration": 14,
        "start_time": "2022-03-03T05:13:22.806Z"
      },
      {
        "duration": 109,
        "start_time": "2022-03-03T05:13:22.823Z"
      },
      {
        "duration": 86,
        "start_time": "2022-03-03T05:13:22.934Z"
      },
      {
        "duration": 82,
        "start_time": "2022-03-03T05:13:23.023Z"
      },
      {
        "duration": 8,
        "start_time": "2022-03-03T05:13:23.107Z"
      },
      {
        "duration": 65,
        "start_time": "2022-03-03T05:13:23.117Z"
      },
      {
        "duration": 214,
        "start_time": "2022-03-03T05:13:23.186Z"
      },
      {
        "duration": 129,
        "start_time": "2022-03-03T05:13:23.477Z"
      },
      {
        "duration": 95,
        "start_time": "2022-03-03T05:13:23.683Z"
      },
      {
        "duration": 14,
        "start_time": "2022-03-03T05:13:23.781Z"
      },
      {
        "duration": 8,
        "start_time": "2022-03-03T05:13:23.798Z"
      },
      {
        "duration": 11,
        "start_time": "2022-03-03T05:13:23.808Z"
      },
      {
        "duration": 11,
        "start_time": "2022-03-03T05:13:23.822Z"
      },
      {
        "duration": 35,
        "start_time": "2022-03-03T05:13:23.840Z"
      },
      {
        "duration": 7,
        "start_time": "2022-03-03T05:13:23.879Z"
      },
      {
        "duration": 6,
        "start_time": "2022-03-03T05:13:23.889Z"
      },
      {
        "duration": 9,
        "start_time": "2022-03-03T05:13:23.898Z"
      },
      {
        "duration": 5577,
        "start_time": "2022-03-03T05:13:23.909Z"
      },
      {
        "duration": 6113,
        "start_time": "2022-03-03T05:13:29.489Z"
      },
      {
        "duration": 5539,
        "start_time": "2022-03-03T05:13:35.604Z"
      },
      {
        "duration": 7,
        "start_time": "2022-03-03T05:13:41.146Z"
      },
      {
        "duration": 25,
        "start_time": "2022-03-03T05:13:41.156Z"
      },
      {
        "duration": 6,
        "start_time": "2022-03-03T05:13:41.183Z"
      },
      {
        "duration": 1380,
        "start_time": "2022-03-03T05:20:04.555Z"
      },
      {
        "duration": 172,
        "start_time": "2022-03-03T05:20:05.938Z"
      },
      {
        "duration": 261,
        "start_time": "2022-03-03T05:20:06.113Z"
      },
      {
        "duration": 165,
        "start_time": "2022-03-03T05:20:06.377Z"
      },
      {
        "duration": 33,
        "start_time": "2022-03-03T05:20:06.545Z"
      },
      {
        "duration": 18,
        "start_time": "2022-03-03T05:20:06.581Z"
      },
      {
        "duration": 19,
        "start_time": "2022-03-03T05:20:06.602Z"
      },
      {
        "duration": 58,
        "start_time": "2022-03-03T05:20:06.626Z"
      },
      {
        "duration": 16,
        "start_time": "2022-03-03T05:20:06.688Z"
      },
      {
        "duration": 13,
        "start_time": "2022-03-03T05:20:06.707Z"
      },
      {
        "duration": 109,
        "start_time": "2022-03-03T05:20:06.723Z"
      },
      {
        "duration": 81,
        "start_time": "2022-03-03T05:20:06.835Z"
      },
      {
        "duration": 92,
        "start_time": "2022-03-03T05:20:06.918Z"
      },
      {
        "duration": 7,
        "start_time": "2022-03-03T05:20:07.013Z"
      },
      {
        "duration": 159,
        "start_time": "2022-03-03T05:20:07.023Z"
      },
      {
        "duration": 119,
        "start_time": "2022-03-03T05:20:07.186Z"
      },
      {
        "duration": 125,
        "start_time": "2022-03-03T05:20:07.375Z"
      },
      {
        "duration": 8,
        "start_time": "2022-03-03T05:20:07.575Z"
      },
      {
        "duration": 13,
        "start_time": "2022-03-03T05:20:07.674Z"
      },
      {
        "duration": 5,
        "start_time": "2022-03-03T05:20:07.689Z"
      },
      {
        "duration": 6,
        "start_time": "2022-03-03T05:20:07.697Z"
      },
      {
        "duration": 6,
        "start_time": "2022-03-03T05:20:07.705Z"
      },
      {
        "duration": 5,
        "start_time": "2022-03-03T05:20:07.716Z"
      },
      {
        "duration": 7,
        "start_time": "2022-03-03T05:20:07.723Z"
      },
      {
        "duration": 4,
        "start_time": "2022-03-03T05:20:07.773Z"
      },
      {
        "duration": 8,
        "start_time": "2022-03-03T05:20:07.779Z"
      },
      {
        "duration": 5338,
        "start_time": "2022-03-03T05:20:07.789Z"
      },
      {
        "duration": 5321,
        "start_time": "2022-03-03T05:20:13.129Z"
      },
      {
        "duration": 5191,
        "start_time": "2022-03-03T05:20:18.452Z"
      },
      {
        "duration": 7,
        "start_time": "2022-03-03T05:20:23.646Z"
      },
      {
        "duration": 26,
        "start_time": "2022-03-03T05:20:23.656Z"
      },
      {
        "duration": 6,
        "start_time": "2022-03-03T05:20:23.684Z"
      }
    ],
    "kernelspec": {
      "display_name": "Python 3",
      "language": "python",
      "name": "python3"
    },
    "language_info": {
      "codemirror_mode": {
        "name": "ipython",
        "version": 3
      },
      "file_extension": ".py",
      "mimetype": "text/x-python",
      "name": "python",
      "nbconvert_exporter": "python",
      "pygments_lexer": "ipython3",
      "version": "3.7.8"
    },
    "toc": {
      "base_numbering": 1,
      "nav_menu": {},
      "number_sections": true,
      "sideBar": true,
      "skip_h1_title": true,
      "title_cell": "Table of Contents",
      "title_sidebar": "Contents",
      "toc_cell": false,
      "toc_position": {},
      "toc_section_display": true,
      "toc_window_display": false
    },
    "colab": {
      "name": "41375149-1f9d-4fa0-af4d-1083c203617f.ipynb",
      "provenance": [],
      "collapsed_sections": []
    }
  },
  "nbformat": 4,
  "nbformat_minor": 0
}